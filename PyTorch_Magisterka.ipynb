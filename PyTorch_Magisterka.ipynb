{
  "cells": [
    {
      "cell_type": "markdown",
      "metadata": {
        "id": "gIJXmtvesxDk"
      },
      "source": [
        "# **Imports**\n",
        "\n",
        "---\n",
        "\n"
      ]
    },
    {
      "cell_type": "code",
      "execution_count": null,
      "metadata": {
        "colab": {
          "base_uri": "https://localhost:8080/"
        },
        "id": "ijwDMBaI4A99",
        "outputId": "64c32d29-1c65-4f44-cc3d-c5ca33316c31"
      },
      "outputs": [
        {
          "output_type": "stream",
          "name": "stdout",
          "text": [
            "Requirement already satisfied: easyocr in /usr/local/lib/python3.10/dist-packages (1.7.1)\n",
            "Requirement already satisfied: torch in /usr/local/lib/python3.10/dist-packages (from easyocr) (2.3.0+cu121)\n",
            "Requirement already satisfied: torchvision>=0.5 in /usr/local/lib/python3.10/dist-packages (from easyocr) (0.18.0+cu121)\n",
            "Requirement already satisfied: opencv-python-headless in /usr/local/lib/python3.10/dist-packages (from easyocr) (4.10.0.82)\n",
            "Requirement already satisfied: scipy in /usr/local/lib/python3.10/dist-packages (from easyocr) (1.11.4)\n",
            "Requirement already satisfied: numpy in /usr/local/lib/python3.10/dist-packages (from easyocr) (1.25.2)\n",
            "Requirement already satisfied: Pillow in /usr/local/lib/python3.10/dist-packages (from easyocr) (9.4.0)\n",
            "Requirement already satisfied: scikit-image in /usr/local/lib/python3.10/dist-packages (from easyocr) (0.19.3)\n",
            "Requirement already satisfied: python-bidi in /usr/local/lib/python3.10/dist-packages (from easyocr) (0.4.2)\n",
            "Requirement already satisfied: PyYAML in /usr/local/lib/python3.10/dist-packages (from easyocr) (6.0.1)\n",
            "Requirement already satisfied: Shapely in /usr/local/lib/python3.10/dist-packages (from easyocr) (2.0.4)\n",
            "Requirement already satisfied: pyclipper in /usr/local/lib/python3.10/dist-packages (from easyocr) (1.3.0.post5)\n",
            "Requirement already satisfied: ninja in /usr/local/lib/python3.10/dist-packages (from easyocr) (1.11.1.1)\n",
            "Requirement already satisfied: filelock in /usr/local/lib/python3.10/dist-packages (from torch->easyocr) (3.14.0)\n",
            "Requirement already satisfied: typing-extensions>=4.8.0 in /usr/local/lib/python3.10/dist-packages (from torch->easyocr) (4.12.2)\n",
            "Requirement already satisfied: sympy in /usr/local/lib/python3.10/dist-packages (from torch->easyocr) (1.12.1)\n",
            "Requirement already satisfied: networkx in /usr/local/lib/python3.10/dist-packages (from torch->easyocr) (3.3)\n",
            "Requirement already satisfied: jinja2 in /usr/local/lib/python3.10/dist-packages (from torch->easyocr) (3.1.4)\n",
            "Requirement already satisfied: fsspec in /usr/local/lib/python3.10/dist-packages (from torch->easyocr) (2023.6.0)\n",
            "Requirement already satisfied: nvidia-cuda-nvrtc-cu12==12.1.105 in /usr/local/lib/python3.10/dist-packages (from torch->easyocr) (12.1.105)\n",
            "Requirement already satisfied: nvidia-cuda-runtime-cu12==12.1.105 in /usr/local/lib/python3.10/dist-packages (from torch->easyocr) (12.1.105)\n",
            "Requirement already satisfied: nvidia-cuda-cupti-cu12==12.1.105 in /usr/local/lib/python3.10/dist-packages (from torch->easyocr) (12.1.105)\n",
            "Requirement already satisfied: nvidia-cudnn-cu12==8.9.2.26 in /usr/local/lib/python3.10/dist-packages (from torch->easyocr) (8.9.2.26)\n",
            "Requirement already satisfied: nvidia-cublas-cu12==12.1.3.1 in /usr/local/lib/python3.10/dist-packages (from torch->easyocr) (12.1.3.1)\n",
            "Requirement already satisfied: nvidia-cufft-cu12==11.0.2.54 in /usr/local/lib/python3.10/dist-packages (from torch->easyocr) (11.0.2.54)\n",
            "Requirement already satisfied: nvidia-curand-cu12==10.3.2.106 in /usr/local/lib/python3.10/dist-packages (from torch->easyocr) (10.3.2.106)\n",
            "Requirement already satisfied: nvidia-cusolver-cu12==11.4.5.107 in /usr/local/lib/python3.10/dist-packages (from torch->easyocr) (11.4.5.107)\n",
            "Requirement already satisfied: nvidia-cusparse-cu12==12.1.0.106 in /usr/local/lib/python3.10/dist-packages (from torch->easyocr) (12.1.0.106)\n",
            "Requirement already satisfied: nvidia-nccl-cu12==2.20.5 in /usr/local/lib/python3.10/dist-packages (from torch->easyocr) (2.20.5)\n",
            "Requirement already satisfied: nvidia-nvtx-cu12==12.1.105 in /usr/local/lib/python3.10/dist-packages (from torch->easyocr) (12.1.105)\n",
            "Requirement already satisfied: triton==2.3.0 in /usr/local/lib/python3.10/dist-packages (from torch->easyocr) (2.3.0)\n",
            "Requirement already satisfied: nvidia-nvjitlink-cu12 in /usr/local/lib/python3.10/dist-packages (from nvidia-cusolver-cu12==11.4.5.107->torch->easyocr) (12.5.40)\n",
            "Requirement already satisfied: six in /usr/local/lib/python3.10/dist-packages (from python-bidi->easyocr) (1.16.0)\n",
            "Requirement already satisfied: imageio>=2.4.1 in /usr/local/lib/python3.10/dist-packages (from scikit-image->easyocr) (2.31.6)\n",
            "Requirement already satisfied: tifffile>=2019.7.26 in /usr/local/lib/python3.10/dist-packages (from scikit-image->easyocr) (2024.5.22)\n",
            "Requirement already satisfied: PyWavelets>=1.1.1 in /usr/local/lib/python3.10/dist-packages (from scikit-image->easyocr) (1.6.0)\n",
            "Requirement already satisfied: packaging>=20.0 in /usr/local/lib/python3.10/dist-packages (from scikit-image->easyocr) (24.1)\n",
            "Requirement already satisfied: MarkupSafe>=2.0 in /usr/local/lib/python3.10/dist-packages (from jinja2->torch->easyocr) (2.1.5)\n",
            "Requirement already satisfied: mpmath<1.4.0,>=1.1.0 in /usr/local/lib/python3.10/dist-packages (from sympy->torch->easyocr) (1.3.0)\n",
            "Requirement already satisfied: torch in /usr/local/lib/python3.10/dist-packages (2.3.0+cu121)\n",
            "Requirement already satisfied: transformers in /usr/local/lib/python3.10/dist-packages (4.41.2)\n",
            "Requirement already satisfied: filelock in /usr/local/lib/python3.10/dist-packages (from torch) (3.14.0)\n",
            "Requirement already satisfied: typing-extensions>=4.8.0 in /usr/local/lib/python3.10/dist-packages (from torch) (4.12.2)\n",
            "Requirement already satisfied: sympy in /usr/local/lib/python3.10/dist-packages (from torch) (1.12.1)\n",
            "Requirement already satisfied: networkx in /usr/local/lib/python3.10/dist-packages (from torch) (3.3)\n",
            "Requirement already satisfied: jinja2 in /usr/local/lib/python3.10/dist-packages (from torch) (3.1.4)\n",
            "Requirement already satisfied: fsspec in /usr/local/lib/python3.10/dist-packages (from torch) (2023.6.0)\n",
            "Requirement already satisfied: nvidia-cuda-nvrtc-cu12==12.1.105 in /usr/local/lib/python3.10/dist-packages (from torch) (12.1.105)\n",
            "Requirement already satisfied: nvidia-cuda-runtime-cu12==12.1.105 in /usr/local/lib/python3.10/dist-packages (from torch) (12.1.105)\n",
            "Requirement already satisfied: nvidia-cuda-cupti-cu12==12.1.105 in /usr/local/lib/python3.10/dist-packages (from torch) (12.1.105)\n",
            "Requirement already satisfied: nvidia-cudnn-cu12==8.9.2.26 in /usr/local/lib/python3.10/dist-packages (from torch) (8.9.2.26)\n",
            "Requirement already satisfied: nvidia-cublas-cu12==12.1.3.1 in /usr/local/lib/python3.10/dist-packages (from torch) (12.1.3.1)\n",
            "Requirement already satisfied: nvidia-cufft-cu12==11.0.2.54 in /usr/local/lib/python3.10/dist-packages (from torch) (11.0.2.54)\n",
            "Requirement already satisfied: nvidia-curand-cu12==10.3.2.106 in /usr/local/lib/python3.10/dist-packages (from torch) (10.3.2.106)\n",
            "Requirement already satisfied: nvidia-cusolver-cu12==11.4.5.107 in /usr/local/lib/python3.10/dist-packages (from torch) (11.4.5.107)\n",
            "Requirement already satisfied: nvidia-cusparse-cu12==12.1.0.106 in /usr/local/lib/python3.10/dist-packages (from torch) (12.1.0.106)\n",
            "Requirement already satisfied: nvidia-nccl-cu12==2.20.5 in /usr/local/lib/python3.10/dist-packages (from torch) (2.20.5)\n",
            "Requirement already satisfied: nvidia-nvtx-cu12==12.1.105 in /usr/local/lib/python3.10/dist-packages (from torch) (12.1.105)\n",
            "Requirement already satisfied: triton==2.3.0 in /usr/local/lib/python3.10/dist-packages (from torch) (2.3.0)\n",
            "Requirement already satisfied: nvidia-nvjitlink-cu12 in /usr/local/lib/python3.10/dist-packages (from nvidia-cusolver-cu12==11.4.5.107->torch) (12.5.40)\n",
            "Requirement already satisfied: huggingface-hub<1.0,>=0.23.0 in /usr/local/lib/python3.10/dist-packages (from transformers) (0.23.3)\n",
            "Requirement already satisfied: numpy>=1.17 in /usr/local/lib/python3.10/dist-packages (from transformers) (1.25.2)\n",
            "Requirement already satisfied: packaging>=20.0 in /usr/local/lib/python3.10/dist-packages (from transformers) (24.1)\n",
            "Requirement already satisfied: pyyaml>=5.1 in /usr/local/lib/python3.10/dist-packages (from transformers) (6.0.1)\n",
            "Requirement already satisfied: regex!=2019.12.17 in /usr/local/lib/python3.10/dist-packages (from transformers) (2024.5.15)\n",
            "Requirement already satisfied: requests in /usr/local/lib/python3.10/dist-packages (from transformers) (2.31.0)\n",
            "Requirement already satisfied: tokenizers<0.20,>=0.19 in /usr/local/lib/python3.10/dist-packages (from transformers) (0.19.1)\n",
            "Requirement already satisfied: safetensors>=0.4.1 in /usr/local/lib/python3.10/dist-packages (from transformers) (0.4.3)\n",
            "Requirement already satisfied: tqdm>=4.27 in /usr/local/lib/python3.10/dist-packages (from transformers) (4.66.4)\n",
            "Requirement already satisfied: MarkupSafe>=2.0 in /usr/local/lib/python3.10/dist-packages (from jinja2->torch) (2.1.5)\n",
            "Requirement already satisfied: charset-normalizer<4,>=2 in /usr/local/lib/python3.10/dist-packages (from requests->transformers) (3.3.2)\n",
            "Requirement already satisfied: idna<4,>=2.5 in /usr/local/lib/python3.10/dist-packages (from requests->transformers) (3.7)\n",
            "Requirement already satisfied: urllib3<3,>=1.21.1 in /usr/local/lib/python3.10/dist-packages (from requests->transformers) (2.0.7)\n",
            "Requirement already satisfied: certifi>=2017.4.17 in /usr/local/lib/python3.10/dist-packages (from requests->transformers) (2024.6.2)\n",
            "Requirement already satisfied: mpmath<1.4.0,>=1.1.0 in /usr/local/lib/python3.10/dist-packages (from sympy->torch) (1.3.0)\n"
          ]
        }
      ],
      "source": [
        "!pip install easyocr\n",
        "!pip install torch transformers"
      ]
    },
    {
      "cell_type": "code",
      "execution_count": null,
      "metadata": {
        "id": "6S6wmDkSsXLe"
      },
      "outputs": [],
      "source": [
        "# Basic utilities\n",
        "import os\n",
        "import string\n",
        "import math\n",
        "import pandas as pd\n",
        "import numpy as np\n",
        "from tqdm import tqdm\n",
        "import pickle\n",
        "import zlib\n",
        "import copy\n",
        "# Google stuff\n",
        "import google.colab as colab\n",
        "# PyTorch\n",
        "import torch\n",
        "import torch.nn as nn\n",
        "import torch.nn.functional as functional\n",
        "import torchvision.models as models\n",
        "from torch.utils.data import Dataset, DataLoader\n",
        "from torch.utils.data import random_split as TorchRandomSplit\n",
        "#from torchvision.transforms import v2 as transforms\n",
        "import torchvision.transforms as transforms\n",
        "from torchvision import models\n",
        "import torch.optim.lr_scheduler as lr_scheduler\n",
        "# Image libraries\n",
        "from PIL import Image, ImageFilter\n",
        "import cv2\n",
        "# Reading text from image\n",
        "import easyocr\n",
        "# Other\n",
        "import transformers\n",
        "from matplotlib import pyplot as plt\n",
        "# SKLearn\n",
        "import sklearn\n",
        "import sklearn.decomposition"
      ]
    },
    {
      "cell_type": "markdown",
      "metadata": {
        "id": "nbI8eE0As2Xb"
      },
      "source": [
        "# **Parameters, tools**\n",
        "\n",
        "---\n",
        "\n"
      ]
    },
    {
      "cell_type": "markdown",
      "metadata": {
        "id": "78qQ5v0GKpx3"
      },
      "source": [
        "## Move to correct location"
      ]
    },
    {
      "cell_type": "code",
      "execution_count": null,
      "metadata": {
        "colab": {
          "base_uri": "https://localhost:8080/"
        },
        "id": "hVXXqPQVKraQ",
        "outputId": "264c878b-2b7e-4d52-cf2b-03bccba6e069"
      },
      "outputs": [
        {
          "output_type": "stream",
          "name": "stdout",
          "text": [
            "Drive already mounted at /content/drive; to attempt to forcibly remount, call drive.mount(\"/content/drive\", force_remount=True).\n",
            "/content/drive/MyDrive/Colab Notebooks/Magisterka\n",
            " FFTResnet\n",
            " images\n",
            " output.json\n",
            "'PyTorch Magisterka.ipynb'\n",
            " raw\n",
            "'RD RESNET50 + DistilRoBERTa, resize bez paddingu.history'\n",
            "'RD RESNET50 + DistilRoBERTa, uśrednianie cech.history'\n",
            "'RD RESNET50 + DistilRoBERTa, wartość maksymalna cech.history'\n",
            "'RD VGG19 + DistilRoBERTa, resize bez paddingu.history'\n",
            "'RD VGG19 + DistilRoBERTa, uśrednianie cech.history'\n",
            "'RD VGG19 + DistilRoBERTa, wartość maksymalna cech.history'\n",
            "'RESNET50 + DistilRoBERTa, nieważona funkcja straty.history'\n",
            "'TF Magisterka.ipynb'\n",
            "'Wyniki etc.'\n"
          ]
        }
      ],
      "source": [
        "colab.drive.mount('/content/drive')\n",
        "%cd /content/drive/MyDrive/Colab Notebooks/Magisterka\n",
        "!ls"
      ]
    },
    {
      "cell_type": "markdown",
      "metadata": {
        "id": "pppct10PxwgT"
      },
      "source": [
        "## Main parameters"
      ]
    },
    {
      "cell_type": "code",
      "execution_count": null,
      "metadata": {
        "id": "_BeNVP-Js7_z"
      },
      "outputs": [],
      "source": [
        "# Image parameters\n",
        "IMG_HEIGHT = 512\n",
        "IMG_WIDTH = 512\n",
        "IMG_CHANNELS = 3 # must be either 1 (grayscale) or 3 (RGB). Warning: I'm not checking whether you set this to correct value\n",
        "IMG_FILTERS = [ ImageFilter.MedianFilter(size=3) ] # preprocessing image\n",
        "\n",
        "# Dataset\n",
        "TRAIN_VS_VAL_SPLIT = 0.75 # must belong to 0..1, 0.8 -> 80% images go to train set\n",
        "RANDOM_SEED = 7983\n",
        "#LABELS = [\"realistic_style\",\"cartoon_style\",\"meme\",\"advert\",\"informative\",\"text\",\"artwork\",\"suggestive\",\"porn\",\"sexism\",\"racism\",\"slander\",\"crude\",\"gore\",\"violent\",\"humorous\",\"disturbing\",\"wholesome\"] # list of labels\n",
        "LABELS = [\"realistic_style\", \"cartoon_style\", \"meme\", \"text\", \"artwork\", \"suggestive\", \"porn\", \"humorous\"]\n",
        "IMG_HEADER = \"filename\"\n",
        "\n",
        "# Text\n",
        "EASYOCR_READER = easyocr.Reader([\"en\"]) # you may change/add supported languages here. Note that changing language to any other than English would require more code changing than that (model, preprocessing etc)\n",
        "TEXT_HEADER = \"extracted_text\"\n",
        "MAX_TOKENS = 128\n",
        "\n",
        "# PyTorch\n",
        "DEVICE = torch.device(\"cuda\" if torch.cuda.is_available() else \"cpu\")\n",
        "BATCH_SIZE = 32\n",
        "FEATURES_SIZE = 512\n",
        "\n",
        "# Paths etc.\n",
        "RAW_DATASET_CSV = \"raw/dataset.csv\"\n",
        "RAW_DATASET_IMGS = \"raw\"\n",
        "PROCESSED_DATASET_JSON = \"output.json\"\n",
        "PROCESSED_DATASET_IMGS = \"images\"\n",
        "TMP_DIR = \".tmp\""
      ]
    },
    {
      "cell_type": "markdown",
      "metadata": {
        "id": "kIffxaMKxpxa"
      },
      "source": [
        "## Transforms - Image augmentation"
      ]
    },
    {
      "cell_type": "code",
      "execution_count": null,
      "metadata": {
        "id": "aI6Dy6Z7yRT-"
      },
      "outputs": [],
      "source": [
        "AUGMENTATION = transforms.Compose([\n",
        "    transforms.RandomRotation(20),\n",
        "    transforms.ColorJitter(brightness=0.2, contrast=0.2, saturation=0.2),\n",
        "    transforms.RandomAffine(degrees=0, translate=(0.1, 0.1), scale=(1, 1.1)),\n",
        "])"
      ]
    },
    {
      "cell_type": "markdown",
      "metadata": {
        "id": "p4vZKFnf7otB"
      },
      "source": [
        "## Tools"
      ]
    },
    {
      "cell_type": "code",
      "execution_count": null,
      "metadata": {
        "id": "7X_QbfrN7rjp"
      },
      "outputs": [],
      "source": [
        "class Tools:\n",
        "  def __init__(self, batch_size, img_height, img_width, img_channels, filters, labels, easyocr_reader, augmentation):\n",
        "    self.batch_size = batch_size\n",
        "    self.img_height = img_height\n",
        "    self.img_width = img_width\n",
        "    self.img_channels = img_channels\n",
        "    self.filters = filters\n",
        "    self.labels = labels\n",
        "    self.easyocr_reader = easyocr_reader\n",
        "    self.augmentation = augmentation\n",
        "  def __resize_with_padding(dummy, pil_image, img_height, img_width, mode, interpolation_algorithm = Image.LANCZOS, padding_color = \"black\"):\n",
        "    original_width, original_height = pil_image.size\n",
        "    aspect_ratio = original_width / original_height\n",
        "    if img_width / img_height > aspect_ratio:\n",
        "        new_width = int(img_height * aspect_ratio)\n",
        "        resized_image = pil_image.resize((new_width, img_height), resample = interpolation_algorithm)\n",
        "    else:\n",
        "        new_height = int(img_width / aspect_ratio)\n",
        "        resized_image = pil_image.resize((img_width, new_height), resample = interpolation_algorithm)\n",
        "    padded_image = Image.new(mode, (img_width, img_height), color=padding_color)\n",
        "    position = ((img_width - resized_image.width) // 2, (img_height - resized_image.height) // 2)\n",
        "    padded_image.paste(resized_image, position)\n",
        "    return padded_image\n",
        "  def FreezeModel(self, model):\n",
        "    for param in model.parameters():\n",
        "      param.requires_grad = False\n",
        "  def PilMode(self):\n",
        "    return \"L\" if self.img_channels == 1 else \"RGB\"\n",
        "  def ProcessImage(self, pil_image):\n",
        "    image = pil_image\n",
        "    image = image.convert(self.PilMode())\n",
        "    for filter in self.filters: image = image.filter(filter)\n",
        "    return self.__resize_with_padding(image, self.img_height, self.img_width, self.PilMode())\n",
        "  def AugmentImage(self, image):\n",
        "    return self.augmentation(image)\n",
        "  def ProcessText(self, text): # no need\n",
        "    return text\n",
        "  def ExtractText(self, pil_image):\n",
        "    numpy_image = np.array(pil_image)\n",
        "    extracted_text = \" \".join(self.easyocr_reader.readtext(numpy_image, paragraph=True, detail = 0))\n",
        "    return self.ProcessText(extracted_text) if extracted_text else \" \" # returning empty string would break CSV files\n",
        "  def Entropy(dummy, x):\n",
        "    if x <= 0.0: return 0.0\n",
        "    if x >= 1.0: return 0.0\n",
        "    l = x * math.log2(x)\n",
        "    p = (1.0-x) * math.log2(1.0-x)\n",
        "    return -(l+p)"
      ]
    },
    {
      "cell_type": "code",
      "execution_count": null,
      "metadata": {
        "id": "y0OK0J-gQi3Z"
      },
      "outputs": [],
      "source": [
        "TOOLS = Tools(BATCH_SIZE, IMG_HEIGHT, IMG_WIDTH, IMG_CHANNELS, IMG_FILTERS, LABELS, EASYOCR_READER, AUGMENTATION)"
      ]
    },
    {
      "cell_type": "markdown",
      "metadata": {
        "id": "FMEovm3wAbg0"
      },
      "source": [
        "## Misc"
      ]
    },
    {
      "cell_type": "code",
      "execution_count": null,
      "metadata": {
        "id": "R2-HnoSiAj1h"
      },
      "outputs": [],
      "source": [
        "# Used to speed up loading images\n",
        "\n",
        "def SaveBin(ob, filename):\n",
        "  with open(filename, \"wb\") as handle:\n",
        "    dump = pickle.dumps(ob)\n",
        "    dump = zlib.compress(dump)\n",
        "    handle.write(dump)\n",
        "\n",
        "def LoadBin(filename):\n",
        "  with open(filename, \"rb\") as handle:\n",
        "    dump = handle.read()\n",
        "    dump = zlib.decompress(dump)\n",
        "    return pickle.loads(dump)"
      ]
    },
    {
      "cell_type": "code",
      "execution_count": null,
      "metadata": {
        "id": "WkIYQm2KAcv0"
      },
      "outputs": [],
      "source": [
        "def stats_to_latex(stats_dict, table_caption=\"Statistics Table\", table_label=\"tab:stats\"):\n",
        "    \"\"\"\n",
        "    Converts a dictionary of statistics into LaTeX table code.\n",
        "\n",
        "    Parameters:\n",
        "    - stats_dict: dict, the dictionary containing statistics where 'key' is the name of the variable and 'value' is the statistic.\n",
        "    - table_caption: str, caption for the LaTeX table.\n",
        "    - table_label: str, label for referencing the table in LaTeX.\n",
        "\n",
        "    Returns:\n",
        "    - str, LaTeX table code.\n",
        "    \"\"\"\n",
        "    # Create the LaTeX table header\n",
        "    latex_code = \"\\\\begin{table}[ht]\\n\"\n",
        "    latex_code += \"\\\\centering\\n\"\n",
        "    latex_code += \"\\\\begin{tabular}{|c|c|}\\n\"\n",
        "    latex_code += \"\\\\hline\\n\"\n",
        "    latex_code += \"Statistic & Value \\\\\\\\\\n\"\n",
        "    latex_code += \"\\\\hline\\n\"\n",
        "\n",
        "    # Add each statistic to the table\n",
        "    for key, value in stats_dict.items():\n",
        "        latex_code += f\"{key} & {value} \\\\\\\\\\n\"\n",
        "        latex_code += \"\\\\hline\\n\"\n",
        "\n",
        "    # Close the LaTeX table\n",
        "    latex_code += \"\\\\end{tabular}\\n\"\n",
        "    latex_code += f\"\\\\caption{{{table_caption}}}\\n\"\n",
        "    latex_code += f\"\\\\label{{{table_label}}}\\n\"\n",
        "    latex_code += \"\\\\end{table}\\n\"\n",
        "\n",
        "    return latex_code"
      ]
    },
    {
      "cell_type": "markdown",
      "metadata": {
        "id": "0rLobdJz7nNT"
      },
      "source": [
        "# **Pretrained models, PCA model**\n",
        "\n",
        "---\n",
        "\n"
      ]
    },
    {
      "cell_type": "markdown",
      "metadata": {
        "id": "ifsE-Ny68QTQ"
      },
      "source": [
        "## Image"
      ]
    },
    {
      "cell_type": "code",
      "execution_count": null,
      "metadata": {
        "id": "ttqC9b4u7tnv"
      },
      "outputs": [],
      "source": [
        "class VGG19(nn.Module):\n",
        "  def __init__(self):\n",
        "    super(VGG19, self).__init__()\n",
        "    self.vgg = models.vgg19(weights = models.VGG19_Weights.IMAGENET1K_V1)\n",
        "    self.vgg.classifier = nn.Sequential(*list(self.vgg.classifier.children())[:-2])\n",
        "    TOOLS.FreezeModel(self.vgg)\n",
        "\n",
        "  def normalize(self, image):\n",
        "    return models.VGG19_Weights.IMAGENET1K_V1.transforms()(image)\n",
        "\n",
        "  def forward(self, x):\n",
        "    self.vgg.eval()\n",
        "    with torch.no_grad():\n",
        "      x = self.vgg(x)\n",
        "      return x\n",
        "\n",
        "class RESNET50(nn.Module):\n",
        "  def __init__(self):\n",
        "    super(RESNET50, self).__init__()\n",
        "    self.model = models.resnet50(weights = models.ResNet50_Weights.IMAGENET1K_V1)\n",
        "    self.model.fc = nn.Identity()\n",
        "    TOOLS.FreezeModel(self.model)\n",
        "\n",
        "  def normalize(self, image):\n",
        "    return models.ResNet50_Weights.IMAGENET1K_V1.transforms()(image)\n",
        "\n",
        "  def forward(self, x):\n",
        "    self.model.eval()\n",
        "    with torch.no_grad():\n",
        "      x = self.model(x)\n",
        "      return x\n",
        "\n",
        "#IMAGE_MODEL = VGG19().to(DEVICE)\n",
        "IMAGE_MODEL = RESNET50().to(DEVICE)"
      ]
    },
    {
      "cell_type": "markdown",
      "metadata": {
        "id": "OombJ_j49FjZ"
      },
      "source": [
        "## Text"
      ]
    },
    {
      "cell_type": "code",
      "execution_count": null,
      "metadata": {
        "id": "CT-Xx_Up9HWb",
        "colab": {
          "base_uri": "https://localhost:8080/"
        },
        "outputId": "c6baf6bd-f28f-43d2-ce16-ed05ffee4da6"
      },
      "outputs": [
        {
          "output_type": "stream",
          "name": "stderr",
          "text": [
            "/usr/local/lib/python3.10/dist-packages/huggingface_hub/utils/_token.py:89: UserWarning: \n",
            "The secret `HF_TOKEN` does not exist in your Colab secrets.\n",
            "To authenticate with the Hugging Face Hub, create a token in your settings tab (https://huggingface.co/settings/tokens), set it as secret in your Google Colab and restart your session.\n",
            "You will be able to reuse this secret in all of your notebooks.\n",
            "Please note that authentication is recommended but still optional to access public models or datasets.\n",
            "  warnings.warn(\n"
          ]
        }
      ],
      "source": [
        "class DistilRoBERTa(nn.Module):\n",
        "  def __init__(self, max_tokens):\n",
        "    super(DistilRoBERTa, self).__init__()\n",
        "    self.max_tokens = max_tokens\n",
        "    self.tokenizer = transformers.AutoTokenizer.from_pretrained(\"distilroberta-base\")\n",
        "    self.model = transformers.AutoModel.from_pretrained(\"distilroberta-base\")\n",
        "    TOOLS.FreezeModel(self.model)\n",
        "\n",
        "  def tokenize(self, text):\n",
        "    return self.tokenizer.encode_plus(\n",
        "        text,\n",
        "        add_special_tokens=True,  # Add [CLS] and [SEP] tokens\n",
        "        max_length=self.max_tokens,\n",
        "        truncation=True,\n",
        "        padding='max_length',  # Pad to the fixed length\n",
        "        return_tensors='pt'  # Return as a PyTorch tensor\n",
        "    )\n",
        "\n",
        "  def forward(self, encoding):\n",
        "    self.model.eval()\n",
        "    input_ids, attention_mask = encoding['input_ids'].squeeze(1), encoding['attention_mask'].squeeze(1)\n",
        "    with torch.no_grad():\n",
        "      _, features = self.model(input_ids = input_ids, attention_mask = attention_mask, return_dict=False)\n",
        "      return features\n",
        "\n",
        "class XLNet(nn.Module):\n",
        "  def __init__(self, max_tokens):\n",
        "    super(XLNet, self).__init__()\n",
        "    self.max_tokens = max_tokens\n",
        "    self.tokenizer = transformers.AutoTokenizer.from_pretrained(\"xlnet-base-cased\")\n",
        "    self.model = transformers.AutoModel.from_pretrained(\"xlnet-base-cased\")\n",
        "    TOOLS.FreezeModel(self.model)\n",
        "\n",
        "  def tokenize(self, text):\n",
        "    return self.tokenizer(\n",
        "      text,\n",
        "      return_tensors='pt',\n",
        "      max_length=self.max_tokens,\n",
        "      padding='max_length',\n",
        "      truncation=True,\n",
        "      add_special_tokens=True,\n",
        "    )\n",
        "\n",
        "  def forward(self, encoding):\n",
        "    self.model.eval()\n",
        "    input_ids, attention_mask = encoding['input_ids'].squeeze(1), encoding['attention_mask'].squeeze(1)\n",
        "    with torch.no_grad():\n",
        "      outputs = self.model(input_ids=input_ids, attention_mask=attention_mask)\n",
        "      features = outputs.last_hidden_state[:, 0, :]\n",
        "      return features\n",
        "\n",
        "TEXT_MODEL = DistilRoBERTa(MAX_TOKENS).to(DEVICE)\n",
        "#TEXT_MODEL = XLNet(MAX_TOKENS).to(DEVICE)"
      ]
    },
    {
      "cell_type": "markdown",
      "metadata": {
        "id": "0PrdJ9DGs4_b"
      },
      "source": [
        "## FFT Resnet"
      ]
    },
    {
      "cell_type": "code",
      "execution_count": null,
      "metadata": {
        "id": "I8QN3xqSs8X6"
      },
      "outputs": [],
      "source": [
        "# Do NOT change anything there.\n",
        "# It was pretrained with these parameters, transforms and so on, it should be used with them aswell.\n",
        "class PretrainedFFTResnet(nn.Module):\n",
        "  def __init__(self, num_classes):\n",
        "    super(PretrainedFFTResnet, self).__init__()\n",
        "    self.resnet = models.resnet18(pretrained=False, num_classes = num_classes)\n",
        "    self.resnet.conv1 = nn.Conv2d(2, 64, kernel_size=7, stride=2, padding=3, bias=False)\n",
        "    self.transform = transforms.Compose([\n",
        "        transforms.Resize((64, 64)),\n",
        "        transforms.ToTensor(),\n",
        "        transforms.Grayscale(),\n",
        "        transforms.Normalize((0.5), (0.5)),\n",
        "    ])\n",
        "    self.normalization = (0.003469953, 0.00758842, 0.0016209723, 1.8142798) # mag_avg, mag_std, ang_avg, ang_std\n",
        "\n",
        "  def __fourier_transform(self, img):\n",
        "      img_tensor = img\n",
        "      img_tensor = torch.fft.fft2(img_tensor, norm=\"forward\")\n",
        "      magnitude = torch.abs(img_tensor)\n",
        "      phase = torch.angle(img_tensor)\n",
        "      if self.normalization:\n",
        "        mag_avg, mag_std, ang_avg, ang_std = self.normalization\n",
        "        magnitude = (magnitude - mag_avg) / mag_std\n",
        "        phase = (phase - ang_avg) / ang_std\n",
        "      return torch.cat([magnitude, phase], dim=0)\n",
        "\n",
        "  def __batched_fourier(self, batch_tensor):\n",
        "    B = batch_tensor.shape[0]\n",
        "    results = []\n",
        "    for i in range(B):\n",
        "        result = self.__fourier_transform(batch_tensor[i])\n",
        "        results.append(result)\n",
        "    batch_result = torch.stack(results)\n",
        "    return batch_result\n",
        "\n",
        "  def compute_normalization(self, images): # images should be pillow images\n",
        "    self.normalization = None\n",
        "    all_magnitudes = []\n",
        "    all_phases = []\n",
        "    for image in images:\n",
        "      m, p =  self.__fourier_transform(self.normalize(image))\n",
        "      all_magnitudes.append(m)\n",
        "      all_phases.append(p)\n",
        "    all_magnitudes = np.concatenate(all_magnitudes, axis = 0)\n",
        "    all_phases = np.concatenate(all_phases, axis = 0)\n",
        "    self.normalization = (np.mean(all_magnitudes), np.std(all_magnitudes), np.mean(all_phases), np.std(all_phases))\n",
        "\n",
        "  def normalize(self, image):\n",
        "    return self.transform(image)\n",
        "\n",
        "  def forward(self, x):\n",
        "    x = self.__batched_fourier(x)\n",
        "    return self.resnet(x)"
      ]
    },
    {
      "cell_type": "code",
      "execution_count": null,
      "metadata": {
        "id": "2CRiyYyVtBHb",
        "colab": {
          "base_uri": "https://localhost:8080/"
        },
        "outputId": "a56d0eab-e355-47a0-a102-055206e826c4"
      },
      "outputs": [
        {
          "output_type": "stream",
          "name": "stderr",
          "text": [
            "/usr/local/lib/python3.10/dist-packages/torchvision/models/_utils.py:208: UserWarning: The parameter 'pretrained' is deprecated since 0.13 and may be removed in the future, please use 'weights' instead.\n",
            "  warnings.warn(\n",
            "/usr/local/lib/python3.10/dist-packages/torchvision/models/_utils.py:223: UserWarning: Arguments other than a weight enum or `None` for 'weights' are deprecated since 0.13 and may be removed in the future. The current behavior is equivalent to passing `weights=None`.\n",
            "  warnings.warn(msg)\n"
          ]
        }
      ],
      "source": [
        "class FFTResnet(nn.Module):\n",
        "  def __init__(self):\n",
        "    super(FFTResnet, self).__init__()\n",
        "    self.model = PretrainedFFTResnet(200)\n",
        "    self.model.load_state_dict(torch.load(\"FFTResnet/model.pth\"))\n",
        "    self.model.resnet.fc = nn.Identity()\n",
        "    TOOLS.FreezeModel(self.model)\n",
        "\n",
        "  def normalize(self, image):\n",
        "    return self.model.normalize(image)\n",
        "\n",
        "  def forward(self, x):\n",
        "    self.model.eval()\n",
        "    with torch.no_grad():\n",
        "      x = self.model(x)\n",
        "      return x\n",
        "\n",
        "FFT_MODEL = FFTResnet().to(DEVICE)"
      ]
    },
    {
      "cell_type": "markdown",
      "metadata": {
        "id": "_dj9Rt7VCEWy"
      },
      "source": [
        "## PCA"
      ]
    },
    {
      "cell_type": "code",
      "execution_count": null,
      "metadata": {
        "id": "F4-e4F5UCFXV"
      },
      "outputs": [],
      "source": [
        "class PCA_Transform(nn.Module):\n",
        "    def __init__(self, n_components, dataloader, feature_extract):\n",
        "        super(PCA_Transform, self).__init__()\n",
        "        self.dummy_layer = nn.Linear(10,5)\n",
        "        TOOLS.FreezeModel(self)\n",
        "        self.pca = None\n",
        "        self.__fit(n_components, dataloader, feature_extract)\n",
        "\n",
        "    def forward(self, x):\n",
        "      if self.pca is None: raise RuntimeError(\"PCA transform not fitted to data\")\n",
        "      x = x.cpu().numpy()\n",
        "      x = self.pca.transform(x)\n",
        "      x = torch.from_numpy(x)\n",
        "      x = x.to(next(self.parameters()).device)\n",
        "      return x\n",
        "\n",
        "    # feature_extract(data) - function, convert data (tuple provided by dataloader) into feature vector\n",
        "    def __fit(self, n_components, dataloader, feature_extract):\n",
        "      features = []\n",
        "      loop = tqdm(dataloader)\n",
        "      with torch.no_grad():\n",
        "          for data in loop:\n",
        "              output = feature_extract(data)\n",
        "              output = output.view(output.size(0), -1)  # Flatten the features if not already\n",
        "              features.append(output.cpu().numpy())  # Move features to CPU and convert to numpy for PCA\n",
        "      features = np.concatenate(features, axis=0)\n",
        "      pca = sklearn.decomposition.PCA(n_components=n_components)\n",
        "      pca.fit(features)\n",
        "      self.pca = pca\n",
        "\n",
        "    def total_variance_ratio(self):\n",
        "      return self.pca.explained_variance_ratio_.sum()\n",
        "\n",
        "    def display_variance_ratio(self):\n",
        "      # Calculate the cumulative explained variance\n",
        "      cumulative_variance = np.cumsum(self.pca.explained_variance_ratio_)\n",
        "\n",
        "      # Display explained variance ratio and cumulative explained variance for every component\n",
        "      for i, (variance_ratio, cum_var) in enumerate(zip(self.pca.explained_variance_ratio_, cumulative_variance), start=1):\n",
        "          print(f\"Component {i}: Explained variance ratio = {variance_ratio:.5f}, Cumulative explained variance = {cum_var:.4f}\")"
      ]
    },
    {
      "cell_type": "markdown",
      "metadata": {
        "id": "JkmnyZ7lVlIP"
      },
      "source": [
        "# **Preprocess and load dataset & split**\n",
        "\n",
        "---\n",
        "\n"
      ]
    },
    {
      "cell_type": "markdown",
      "metadata": {
        "id": "LIZH8cJEBiEp"
      },
      "source": [
        "## Converting raw dataset"
      ]
    },
    {
      "cell_type": "code",
      "execution_count": null,
      "metadata": {
        "id": "sOZ8UiQvryqj"
      },
      "outputs": [],
      "source": [
        "# Extract text from image + preprocess image\n",
        "# Saves output in JSON file\n",
        "def PrepareDataset(dataframe, input_dir, output_filename, output_dir):\n",
        "  os.makedirs(output_dir, exist_ok=True)\n",
        "  columns = [IMG_HEADER, TEXT_HEADER]+LABELS\n",
        "  df = pd.DataFrame(columns = columns)\n",
        "  loop = tqdm(dataframe.iterrows(), total = len(dataframe))\n",
        "  image_widths = []\n",
        "  image_heights = []\n",
        "  for index, row in loop:\n",
        "    try:\n",
        "      img_name = row[IMG_HEADER]\n",
        "      labels = row[LABELS].tolist()\n",
        "      img_path = os.path.join(input_dir, img_name)\n",
        "      image = Image.open(img_path)\n",
        "      image_widths.append( image.width )\n",
        "      image_heights.append( image.height )\n",
        "      text = TOOLS.ExtractText(image)\n",
        "      image = TOOLS.ProcessImage(image)\n",
        "      image.save( os.path.join(output_dir, img_name) )\n",
        "      r = pd.DataFrame([ [img_name, text] + labels ], columns=columns)\n",
        "      df = pd.concat([df, r], ignore_index=True)\n",
        "    except Exception as e:\n",
        "      print(e)\n",
        "  df.to_json(output_filename, orient='records', lines=True)\n",
        "  return image_widths, image_heights"
      ]
    },
    {
      "cell_type": "code",
      "execution_count": null,
      "metadata": {
        "id": "pPcKOUBsr0Dg"
      },
      "outputs": [],
      "source": [
        "def analyze_images(image_widths, image_heights):\n",
        "  width_min, width_avg, width_std, width_max = np.min(image_widths), np.mean(image_widths), np.std(image_widths), np.max(image_widths)\n",
        "  height_min, height_avg, height_std, height_max = np.min(image_heights), np.mean(image_heights), np.std(image_heights), np.max(image_heights)\n",
        "  print(f\"Width: min {width_min}, avg {width_avg}, std {width_std}, max {width_max}\")\n",
        "  print(f\"Height: min {height_min}, avg {height_avg}, std {height_std}, max {height_max}\")\n",
        "  plt.figure()\n",
        "  plt.hist(image_widths, bins=round(len(set(image_widths)) / 4))\n",
        "  plt.title(\"Histogram - Szerokość obrazu\")\n",
        "  plt.xlabel(\"Szerokość obrazu (w pikselach)\")\n",
        "  plt.ylabel(\"Liczność\")\n",
        "  plt.show()\n",
        "  plt.figure()\n",
        "  plt.hist(image_heights, bins=round(len(set(image_heights)) / 4))\n",
        "  plt.title(\"Histogram - Wysokość obrazu\")\n",
        "  plt.xlabel(\"Wysokość obrazu (w pikselach)\")\n",
        "  plt.ylabel(\"Liczność\")\n",
        "  plt.show()"
      ]
    },
    {
      "cell_type": "code",
      "execution_count": null,
      "metadata": {
        "colab": {
          "base_uri": "https://localhost:8080/",
          "height": 1000
        },
        "id": "B7avtW7ftqFz",
        "outputId": "a354c5dc-faf3-48ec-ea9a-5fc83da4b4f1"
      },
      "outputs": [
        {
          "output_type": "stream",
          "name": "stderr",
          "text": [
            "  3%|▎         | 40/1543 [00:49<33:59,  1.36s/it]/usr/local/lib/python3.10/dist-packages/torch/nn/modules/conv.py:456: UserWarning: Plan failed with a cudnnException: CUDNN_BACKEND_EXECUTION_PLAN_DESCRIPTOR: cudnnFinalize Descriptor Failed cudnn_status: CUDNN_STATUS_NOT_SUPPORTED (Triggered internally at ../aten/src/ATen/native/cudnn/Conv_v8.cpp:919.)\n",
            "  return F.conv2d(input, weight, bias, self.stride,\n",
            "  6%|▋         | 99/1543 [01:48<20:33,  1.17it/s]/usr/local/lib/python3.10/dist-packages/torch/nn/modules/conv.py:456: UserWarning: Plan failed with a cudnnException: CUDNN_BACKEND_EXECUTION_PLAN_DESCRIPTOR: cudnnFinalize Descriptor Failed cudnn_status: CUDNN_STATUS_NOT_SUPPORTED (Triggered internally at ../aten/src/ATen/native/cudnn/Conv_v8.cpp:919.)\n",
            "  return F.conv2d(input, weight, bias, self.stride,\n",
            "  6%|▋         | 100/1543 [01:49<19:53,  1.21it/s]/usr/local/lib/python3.10/dist-packages/torch/nn/modules/conv.py:456: UserWarning: Plan failed with a cudnnException: CUDNN_BACKEND_EXECUTION_PLAN_DESCRIPTOR: cudnnFinalize Descriptor Failed cudnn_status: CUDNN_STATUS_NOT_SUPPORTED (Triggered internally at ../aten/src/ATen/native/cudnn/Conv_v8.cpp:919.)\n",
            "  return F.conv2d(input, weight, bias, self.stride,\n",
            "  7%|▋         | 102/1543 [01:52<27:41,  1.15s/it]/usr/local/lib/python3.10/dist-packages/torch/nn/modules/conv.py:456: UserWarning: Plan failed with a cudnnException: CUDNN_BACKEND_EXECUTION_PLAN_DESCRIPTOR: cudnnFinalize Descriptor Failed cudnn_status: CUDNN_STATUS_NOT_SUPPORTED (Triggered internally at ../aten/src/ATen/native/cudnn/Conv_v8.cpp:919.)\n",
            "  return F.conv2d(input, weight, bias, self.stride,\n",
            "  7%|▋         | 104/1543 [01:54<25:46,  1.07s/it]/usr/local/lib/python3.10/dist-packages/torch/nn/modules/conv.py:456: UserWarning: Plan failed with a cudnnException: CUDNN_BACKEND_EXECUTION_PLAN_DESCRIPTOR: cudnnFinalize Descriptor Failed cudnn_status: CUDNN_STATUS_NOT_SUPPORTED (Triggered internally at ../aten/src/ATen/native/cudnn/Conv_v8.cpp:919.)\n",
            "  return F.conv2d(input, weight, bias, self.stride,\n",
            "  7%|▋         | 110/1543 [02:03<35:17,  1.48s/it]/usr/local/lib/python3.10/dist-packages/torch/nn/modules/conv.py:456: UserWarning: Plan failed with a cudnnException: CUDNN_BACKEND_EXECUTION_PLAN_DESCRIPTOR: cudnnFinalize Descriptor Failed cudnn_status: CUDNN_STATUS_NOT_SUPPORTED (Triggered internally at ../aten/src/ATen/native/cudnn/Conv_v8.cpp:919.)\n",
            "  return F.conv2d(input, weight, bias, self.stride,\n",
            " 10%|█         | 158/1543 [03:21<35:39,  1.54s/it]/usr/local/lib/python3.10/dist-packages/torch/nn/modules/conv.py:456: UserWarning: Plan failed with a cudnnException: CUDNN_BACKEND_EXECUTION_PLAN_DESCRIPTOR: cudnnFinalize Descriptor Failed cudnn_status: CUDNN_STATUS_NOT_SUPPORTED (Triggered internally at ../aten/src/ATen/native/cudnn/Conv_v8.cpp:919.)\n",
            "  return F.conv2d(input, weight, bias, self.stride,\n",
            " 27%|██▋       | 411/1543 [09:21<17:28,  1.08it/s]"
          ]
        },
        {
          "output_type": "stream",
          "name": "stdout",
          "text": [
            "[Errno 2] No such file or directory: 'raw/912c272bab9536b5c5632cf522fff486.png'\n"
          ]
        },
        {
          "output_type": "stream",
          "name": "stderr",
          "text": [
            "100%|██████████| 1543/1543 [33:25<00:00,  1.30s/it]\n"
          ]
        },
        {
          "output_type": "stream",
          "name": "stdout",
          "text": [
            "Width: min 61, avg 1109.7081712062256, std 764.3215444213023, max 6480\n",
            "Height: min 61, avg 1192.141374837873, std 882.5055965109102, max 6734\n"
          ]
        },
        {
          "output_type": "display_data",
          "data": {
            "text/plain": [
              "<Figure size 640x480 with 1 Axes>"
            ],
            "image/png": "[encoded data removed]"
          },
          "metadata": {}
        },
        {
          "output_type": "display_data",
          "data": {
            "text/plain": [
              "<Figure size 640x480 with 1 Axes>"
            ],
            "image/png": "[encoded data removed]"
          },
          "metadata": {}
        }
      ],
      "source": [
        "if not os.path.isfile(PROCESSED_DATASET_JSON):\n",
        "  dataframe = pd.read_csv(RAW_DATASET_CSV)\n",
        "  image_widths, image_heights = PrepareDataset(dataframe, RAW_DATASET_IMGS, PROCESSED_DATASET_JSON, PROCESSED_DATASET_IMGS)\n",
        "  analyze_images(image_widths, image_heights)"
      ]
    },
    {
      "cell_type": "markdown",
      "metadata": {
        "id": "3wEmBKTRBur4"
      },
      "source": [
        "## Loading processed dataset"
      ]
    },
    {
      "cell_type": "code",
      "execution_count": null,
      "metadata": {
        "id": "jtjhgrK6V-4-"
      },
      "outputs": [],
      "source": [
        "# Dataset must be processed before\n",
        "class MultimodalDataset(Dataset):\n",
        "    def __init__(self, dataframe, img_dir, tools):\n",
        "        self.df = dataframe\n",
        "        self.img_dir = img_dir\n",
        "        self.tools = tools\n",
        "        self.img_dict = self.__preload_images() # dict[img_name] = pil_image\n",
        "\n",
        "    def __preload_images(self):\n",
        "        os.makedirs(TMP_DIR, exist_ok = True)\n",
        "        secret_path = os.path.join(TMP_DIR, \"__data\")\n",
        "        if os.path.isfile(secret_path): return LoadBin(secret_path)\n",
        "        loop = tqdm( self.df.iterrows(), total = len(self.df) )\n",
        "        output = dict()\n",
        "        for index, row in loop:\n",
        "            img_name = row[IMG_HEADER]\n",
        "            image = Image.open(os.path.join(self.img_dir, img_name))\n",
        "            output[img_name] = image\n",
        "        SaveBin(output, secret_path)\n",
        "        return output\n",
        "\n",
        "    def get_label(self, index):\n",
        "        return self.df.iloc[index][self.tools.labels].values\n",
        "\n",
        "    def __len__(self):\n",
        "        return len(self.df)\n",
        "\n",
        "    def __getitem__(self, idx):\n",
        "        img_name = self.df.iloc[idx][IMG_HEADER]\n",
        "        image = self.img_dict[img_name]\n",
        "        image = self.tools.AugmentImage(image)\n",
        "        text = self.df.iloc[idx][TEXT_HEADER]\n",
        "        labels = self.get_label(idx)\n",
        "        return image, text, labels"
      ]
    },
    {
      "cell_type": "code",
      "execution_count": null,
      "metadata": {
        "id": "sHee0z_-6Dwr"
      },
      "outputs": [],
      "source": [
        "class TorchDataset(Dataset):\n",
        "    def __init__(self, multimodal_dataset, image_model, text_model, fft_model):\n",
        "        self.multimodal_dataset = multimodal_dataset\n",
        "        self.image_model = image_model\n",
        "        self.text_model = text_model\n",
        "        self.fft_model = fft_model\n",
        "\n",
        "    def __len__(self):\n",
        "        return len(self.multimodal_dataset)\n",
        "\n",
        "    def __getitem__(self, idx):\n",
        "        image, text, labels = self.multimodal_dataset[idx]\n",
        "        torch_image = self.image_model.normalize(image)\n",
        "        torch_image_for_fft = self.fft_model.normalize(image)\n",
        "        torch_encodings = self.text_model.tokenize(text)\n",
        "        return torch_image, torch_image_for_fft, torch_encodings, np.array(labels).astype(float)"
      ]
    },
    {
      "cell_type": "code",
      "execution_count": null,
      "metadata": {
        "id": "z14YrBt5_r8_",
        "colab": {
          "base_uri": "https://localhost:8080/"
        },
        "outputId": "7a6221bf-a5c3-44b5-cd2a-ea8ad6a9f4bc"
      },
      "outputs": [
        {
          "output_type": "stream",
          "name": "stdout",
          "text": [
            "Training set size: 1156\n",
            "Test set size: 386\n"
          ]
        }
      ],
      "source": [
        "generator = torch.Generator().manual_seed(RANDOM_SEED)\n",
        "\n",
        "multimodal = MultimodalDataset(pd.read_json(PROCESSED_DATASET_JSON, lines=True), PROCESSED_DATASET_IMGS, TOOLS) # PROCESSED_DATASET_IMGS\n",
        "dataset = TorchDataset(multimodal, IMAGE_MODEL, TEXT_MODEL, FFT_MODEL)\n",
        "\n",
        "def TrainTestSplit(dataset):\n",
        "    train_size = int(TRAIN_VS_VAL_SPLIT * len(dataset))\n",
        "    test_size = len(dataset) - train_size\n",
        "    train_set, test_set = TorchRandomSplit(dataset, [train_size, test_size], generator=generator)\n",
        "    return train_set, test_set\n",
        "\n",
        "train, test = TrainTestSplit(dataset)\n",
        "\n",
        "TRAIN_LOADER = DataLoader(train, batch_size = TOOLS.batch_size, shuffle = True)\n",
        "TEST_LOADER = DataLoader(test, batch_size = TOOLS.batch_size, shuffle = False)\n",
        "\n",
        "print(f'Training set size: {len(train)}')\n",
        "print(f'Test set size: {len(test)}')"
      ]
    },
    {
      "cell_type": "code",
      "execution_count": null,
      "metadata": {
        "id": "8K7SAu9Ve-O0",
        "colab": {
          "base_uri": "https://localhost:8080/"
        },
        "outputId": "5cfafd1d-b933-4b6a-8c6b-d1bb8b962c7c"
      },
      "outputs": [
        {
          "output_type": "stream",
          "name": "stderr",
          "text": [
            "100%|██████████| 1542/1542 [00:01<00:00, 819.77it/s]\n"
          ]
        },
        {
          "output_type": "stream",
          "name": "stdout",
          "text": [
            "\n",
            "tensor([0.0697, 0.0658, 0.0552, 0.2065, 0.1617, 0.2213, 0.1525, 0.0672],\n",
            "       device='cuda:0')\n"
          ]
        }
      ],
      "source": [
        "def GetDatasetInfo(dataset, labels, threshold = 0.5):\n",
        "  d = dict()\n",
        "  for i in range(len(labels)): d[labels[i]] = 0\n",
        "  loop = tqdm( range( len(dataset) ), total=len(dataset) )\n",
        "  for idx in loop:\n",
        "    lab = dataset.get_label(idx)\n",
        "    for i in range(len(lab)):\n",
        "      if lab[i] > threshold:\n",
        "        d[labels[i]] = d[labels[i]] + 1\n",
        "  return d\n",
        "\n",
        "def GetWeights(dataset, labels, threshold = 0.5):\n",
        "  d = GetDatasetInfo(dataset, labels, threshold)\n",
        "  total_samples = len(dataset)\n",
        "  inverse_freqs = [ total_samples / (d[labels[i]]) for i in range(len(labels)) ]\n",
        "  sum_inverse_freqs = sum(inverse_freqs)\n",
        "  return [freq / sum_inverse_freqs for freq in inverse_freqs]\n",
        "\n",
        "WEIGHTS = torch.tensor(GetWeights(multimodal, LABELS), device=DEVICE)\n",
        "print()\n",
        "print(WEIGHTS)"
      ]
    },
    {
      "cell_type": "markdown",
      "metadata": {
        "id": "oVVvX19YGRlf"
      },
      "source": [
        "## Labels analysis"
      ]
    },
    {
      "cell_type": "code",
      "execution_count": null,
      "metadata": {
        "colab": {
          "base_uri": "https://localhost:8080/",
          "height": 824
        },
        "id": "p5JsMvWCGTXy",
        "outputId": "8faad610-07bf-427d-8852-5bb2c032b432"
      },
      "outputs": [
        {
          "output_type": "stream",
          "name": "stderr",
          "text": [
            "100%|██████████| 1542/1542 [00:01<00:00, 1381.64it/s]\n"
          ]
        },
        {
          "output_type": "display_data",
          "data": {
            "text/plain": [
              "<Figure size 1200x800 with 1 Axes>"
            ],
            "image/png": "[encoded data removed]"
          },
          "metadata": {}
        }
      ],
      "source": [
        "def analyze_labels(dataset, labels):\n",
        "  quantities = GetDatasetInfo(dataset, labels)\n",
        "  for label in quantities:\n",
        "    quantities[label] = quantities[label] / len(dataset)\n",
        "  plt.figure(figsize=(12, 8))\n",
        "  z = [ ( key, quantities[key] ) for key in quantities ]\n",
        "  z = sorted(z, key=lambda x: x[1], reverse=True)\n",
        "  l = [ i[0] for i in z ]\n",
        "  c = [ i[1] for i in z ]\n",
        "  plt.bar(l, c, color='skyblue')\n",
        "  plt.xlabel(\"Etykieta\")\n",
        "  plt.ylabel(\"Zawartość procentowa [%]\")\n",
        "  plt.title(\"Skład zbioru danych\")\n",
        "  plt.xticks(rotation=60)\n",
        "  plt.tight_layout()\n",
        "  plt.grid()\n",
        "  plt.show()\n",
        "analyze_labels(multimodal, LABELS)"
      ]
    },
    {
      "cell_type": "code",
      "execution_count": null,
      "metadata": {
        "colab": {
          "base_uri": "https://localhost:8080/",
          "height": 339
        },
        "id": "ECpTyKHmlLn_",
        "outputId": "1f8dbe04-ff00-4fee-e6ac-fecd27c0013d"
      },
      "outputs": [
        {
          "output_type": "stream",
          "name": "stderr",
          "text": [
            "100%|██████████| 1542/1542 [00:01<00:00, 1240.82it/s]\n"
          ]
        },
        {
          "output_type": "error",
          "ename": "KeyboardInterrupt",
          "evalue": "",
          "traceback": [
            "\u001b[0;31m---------------------------------------------------------------------------\u001b[0m",
            "\u001b[0;31mKeyboardInterrupt\u001b[0m                         Traceback (most recent call last)",
            "\u001b[0;32m<ipython-input-20-49e3d3cb6cd9>\u001b[0m in \u001b[0;36m<cell line: 38>\u001b[0;34m()\u001b[0m\n\u001b[1;32m     36\u001b[0m   \u001b[0mplt\u001b[0m\u001b[0;34m.\u001b[0m\u001b[0mgrid\u001b[0m\u001b[0;34m(\u001b[0m\u001b[0;34m)\u001b[0m\u001b[0;34m\u001b[0m\u001b[0;34m\u001b[0m\u001b[0m\n\u001b[1;32m     37\u001b[0m   \u001b[0mplt\u001b[0m\u001b[0;34m.\u001b[0m\u001b[0mshow\u001b[0m\u001b[0;34m(\u001b[0m\u001b[0;34m)\u001b[0m\u001b[0;34m\u001b[0m\u001b[0;34m\u001b[0m\u001b[0m\n\u001b[0;32m---> 38\u001b[0;31m \u001b[0manalyze_label_correlation\u001b[0m\u001b[0;34m(\u001b[0m\u001b[0mmultimodal\u001b[0m\u001b[0;34m,\u001b[0m \u001b[0mLABELS\u001b[0m\u001b[0;34m)\u001b[0m\u001b[0;34m\u001b[0m\u001b[0;34m\u001b[0m\u001b[0m\n\u001b[0m",
            "\u001b[0;32m<ipython-input-20-49e3d3cb6cd9>\u001b[0m in \u001b[0;36manalyze_label_correlation\u001b[0;34m(dataset, labels)\u001b[0m\n\u001b[1;32m     15\u001b[0m \u001b[0;32mdef\u001b[0m \u001b[0manalyze_label_correlation\u001b[0m\u001b[0;34m(\u001b[0m\u001b[0mdataset\u001b[0m\u001b[0;34m,\u001b[0m \u001b[0mlabels\u001b[0m\u001b[0;34m)\u001b[0m\u001b[0;34m:\u001b[0m\u001b[0;34m\u001b[0m\u001b[0;34m\u001b[0m\u001b[0m\n\u001b[1;32m     16\u001b[0m   \u001b[0mquantities\u001b[0m \u001b[0;34m=\u001b[0m \u001b[0mGetDatasetInfo\u001b[0m\u001b[0;34m(\u001b[0m\u001b[0mdataset\u001b[0m\u001b[0;34m,\u001b[0m \u001b[0mlabels\u001b[0m\u001b[0;34m)\u001b[0m\u001b[0;34m\u001b[0m\u001b[0;34m\u001b[0m\u001b[0m\n\u001b[0;32m---> 17\u001b[0;31m   \u001b[0mcorrelation\u001b[0m \u001b[0;34m=\u001b[0m \u001b[0mget_label_correlation\u001b[0m\u001b[0;34m(\u001b[0m\u001b[0mdataset\u001b[0m\u001b[0;34m,\u001b[0m \u001b[0mlabels\u001b[0m\u001b[0;34m)\u001b[0m\u001b[0;34m\u001b[0m\u001b[0;34m\u001b[0m\u001b[0m\n\u001b[0m\u001b[1;32m     18\u001b[0m   \u001b[0mresults\u001b[0m \u001b[0;34m=\u001b[0m \u001b[0;34m[\u001b[0m\u001b[0;34m]\u001b[0m\u001b[0;34m\u001b[0m\u001b[0;34m\u001b[0m\u001b[0m\n\u001b[1;32m     19\u001b[0m   \u001b[0;32mfor\u001b[0m \u001b[0mcombined_labels\u001b[0m\u001b[0;34m,\u001b[0m \u001b[0md\u001b[0m \u001b[0;32min\u001b[0m \u001b[0mcorrelation\u001b[0m\u001b[0;34m:\u001b[0m\u001b[0;34m\u001b[0m\u001b[0;34m\u001b[0m\u001b[0m\n",
            "\u001b[0;32m<ipython-input-20-49e3d3cb6cd9>\u001b[0m in \u001b[0;36mget_label_correlation\u001b[0;34m(dataset, labels, threshold)\u001b[0m\n\u001b[1;32m      8\u001b[0m       \u001b[0mdata\u001b[0m\u001b[0;34m[\u001b[0m\u001b[0mcombination\u001b[0m\u001b[0;34m]\u001b[0m \u001b[0;34m=\u001b[0m \u001b[0;34m(\u001b[0m\u001b[0;36m0\u001b[0m\u001b[0;34m,\u001b[0m \u001b[0ml_label\u001b[0m\u001b[0;34m,\u001b[0m \u001b[0mr_label\u001b[0m\u001b[0;34m)\u001b[0m\u001b[0;34m\u001b[0m\u001b[0;34m\u001b[0m\u001b[0m\n\u001b[1;32m      9\u001b[0m       \u001b[0;32mfor\u001b[0m \u001b[0mi\u001b[0m \u001b[0;32min\u001b[0m \u001b[0mrange\u001b[0m\u001b[0;34m(\u001b[0m\u001b[0mlen\u001b[0m\u001b[0;34m(\u001b[0m\u001b[0mdataset\u001b[0m\u001b[0;34m)\u001b[0m\u001b[0;34m)\u001b[0m\u001b[0;34m:\u001b[0m\u001b[0;34m\u001b[0m\u001b[0;34m\u001b[0m\u001b[0m\n\u001b[0;32m---> 10\u001b[0;31m         \u001b[0mlab\u001b[0m \u001b[0;34m=\u001b[0m \u001b[0mdataset\u001b[0m\u001b[0;34m.\u001b[0m\u001b[0mget_label\u001b[0m\u001b[0;34m(\u001b[0m\u001b[0mi\u001b[0m\u001b[0;34m)\u001b[0m\u001b[0;34m\u001b[0m\u001b[0;34m\u001b[0m\u001b[0m\n\u001b[0m\u001b[1;32m     11\u001b[0m         \u001b[0;32mif\u001b[0m \u001b[0mlab\u001b[0m\u001b[0;34m[\u001b[0m\u001b[0ml_label_id\u001b[0m\u001b[0;34m]\u001b[0m \u001b[0;34m>\u001b[0m \u001b[0mthreshold\u001b[0m \u001b[0;32mand\u001b[0m \u001b[0mlab\u001b[0m\u001b[0;34m[\u001b[0m\u001b[0mr_label_id\u001b[0m\u001b[0;34m]\u001b[0m \u001b[0;34m>\u001b[0m \u001b[0mthreshold\u001b[0m\u001b[0;34m:\u001b[0m\u001b[0;34m\u001b[0m\u001b[0;34m\u001b[0m\u001b[0m\n\u001b[1;32m     12\u001b[0m           \u001b[0mdata\u001b[0m\u001b[0;34m[\u001b[0m\u001b[0mcombination\u001b[0m\u001b[0;34m]\u001b[0m \u001b[0;34m=\u001b[0m \u001b[0;34m(\u001b[0m\u001b[0mdata\u001b[0m\u001b[0;34m[\u001b[0m\u001b[0mcombination\u001b[0m\u001b[0;34m]\u001b[0m\u001b[0;34m[\u001b[0m\u001b[0;36m0\u001b[0m\u001b[0;34m]\u001b[0m \u001b[0;34m+\u001b[0m \u001b[0;36m1\u001b[0m\u001b[0;34m,\u001b[0m \u001b[0ml_label\u001b[0m\u001b[0;34m,\u001b[0m \u001b[0mr_label\u001b[0m\u001b[0;34m)\u001b[0m\u001b[0;34m\u001b[0m\u001b[0;34m\u001b[0m\u001b[0m\n",
            "\u001b[0;32m<ipython-input-15-81d8789619da>\u001b[0m in \u001b[0;36mget_label\u001b[0;34m(self, index)\u001b[0m\n\u001b[1;32m     21\u001b[0m \u001b[0;34m\u001b[0m\u001b[0m\n\u001b[1;32m     22\u001b[0m     \u001b[0;32mdef\u001b[0m \u001b[0mget_label\u001b[0m\u001b[0;34m(\u001b[0m\u001b[0mself\u001b[0m\u001b[0;34m,\u001b[0m \u001b[0mindex\u001b[0m\u001b[0;34m)\u001b[0m\u001b[0;34m:\u001b[0m\u001b[0;34m\u001b[0m\u001b[0;34m\u001b[0m\u001b[0m\n\u001b[0;32m---> 23\u001b[0;31m         \u001b[0;32mreturn\u001b[0m \u001b[0mself\u001b[0m\u001b[0;34m.\u001b[0m\u001b[0mdf\u001b[0m\u001b[0;34m.\u001b[0m\u001b[0miloc\u001b[0m\u001b[0;34m[\u001b[0m\u001b[0mindex\u001b[0m\u001b[0;34m]\u001b[0m\u001b[0;34m[\u001b[0m\u001b[0mself\u001b[0m\u001b[0;34m.\u001b[0m\u001b[0mtools\u001b[0m\u001b[0;34m.\u001b[0m\u001b[0mlabels\u001b[0m\u001b[0;34m]\u001b[0m\u001b[0;34m.\u001b[0m\u001b[0mvalues\u001b[0m\u001b[0;34m\u001b[0m\u001b[0;34m\u001b[0m\u001b[0m\n\u001b[0m\u001b[1;32m     24\u001b[0m \u001b[0;34m\u001b[0m\u001b[0m\n\u001b[1;32m     25\u001b[0m     \u001b[0;32mdef\u001b[0m \u001b[0m__len__\u001b[0m\u001b[0;34m(\u001b[0m\u001b[0mself\u001b[0m\u001b[0;34m)\u001b[0m\u001b[0;34m:\u001b[0m\u001b[0;34m\u001b[0m\u001b[0;34m\u001b[0m\u001b[0m\n",
            "\u001b[0;32m/usr/local/lib/python3.10/dist-packages/pandas/core/indexing.py\u001b[0m in \u001b[0;36m__getitem__\u001b[0;34m(self, key)\u001b[0m\n\u001b[1;32m   1101\u001b[0m \u001b[0;34m\u001b[0m\u001b[0m\n\u001b[1;32m   1102\u001b[0m             \u001b[0mmaybe_callable\u001b[0m \u001b[0;34m=\u001b[0m \u001b[0mcom\u001b[0m\u001b[0;34m.\u001b[0m\u001b[0mapply_if_callable\u001b[0m\u001b[0;34m(\u001b[0m\u001b[0mkey\u001b[0m\u001b[0;34m,\u001b[0m \u001b[0mself\u001b[0m\u001b[0;34m.\u001b[0m\u001b[0mobj\u001b[0m\u001b[0;34m)\u001b[0m\u001b[0;34m\u001b[0m\u001b[0;34m\u001b[0m\u001b[0m\n\u001b[0;32m-> 1103\u001b[0;31m             \u001b[0;32mreturn\u001b[0m \u001b[0mself\u001b[0m\u001b[0;34m.\u001b[0m\u001b[0m_getitem_axis\u001b[0m\u001b[0;34m(\u001b[0m\u001b[0mmaybe_callable\u001b[0m\u001b[0;34m,\u001b[0m \u001b[0maxis\u001b[0m\u001b[0;34m=\u001b[0m\u001b[0maxis\u001b[0m\u001b[0;34m)\u001b[0m\u001b[0;34m\u001b[0m\u001b[0;34m\u001b[0m\u001b[0m\n\u001b[0m\u001b[1;32m   1104\u001b[0m \u001b[0;34m\u001b[0m\u001b[0m\n\u001b[1;32m   1105\u001b[0m     \u001b[0;32mdef\u001b[0m \u001b[0m_is_scalar_access\u001b[0m\u001b[0;34m(\u001b[0m\u001b[0mself\u001b[0m\u001b[0;34m,\u001b[0m \u001b[0mkey\u001b[0m\u001b[0;34m:\u001b[0m \u001b[0mtuple\u001b[0m\u001b[0;34m)\u001b[0m\u001b[0;34m:\u001b[0m\u001b[0;34m\u001b[0m\u001b[0;34m\u001b[0m\u001b[0m\n",
            "\u001b[0;32m/usr/local/lib/python3.10/dist-packages/pandas/core/indexing.py\u001b[0m in \u001b[0;36m_getitem_axis\u001b[0;34m(self, key, axis)\u001b[0m\n\u001b[1;32m   1656\u001b[0m             \u001b[0mself\u001b[0m\u001b[0;34m.\u001b[0m\u001b[0m_validate_integer\u001b[0m\u001b[0;34m(\u001b[0m\u001b[0mkey\u001b[0m\u001b[0;34m,\u001b[0m \u001b[0maxis\u001b[0m\u001b[0;34m)\u001b[0m\u001b[0;34m\u001b[0m\u001b[0;34m\u001b[0m\u001b[0m\n\u001b[1;32m   1657\u001b[0m \u001b[0;34m\u001b[0m\u001b[0m\n\u001b[0;32m-> 1658\u001b[0;31m             \u001b[0;32mreturn\u001b[0m \u001b[0mself\u001b[0m\u001b[0;34m.\u001b[0m\u001b[0mobj\u001b[0m\u001b[0;34m.\u001b[0m\u001b[0m_ixs\u001b[0m\u001b[0;34m(\u001b[0m\u001b[0mkey\u001b[0m\u001b[0;34m,\u001b[0m \u001b[0maxis\u001b[0m\u001b[0;34m=\u001b[0m\u001b[0maxis\u001b[0m\u001b[0;34m)\u001b[0m\u001b[0;34m\u001b[0m\u001b[0;34m\u001b[0m\u001b[0m\n\u001b[0m\u001b[1;32m   1659\u001b[0m \u001b[0;34m\u001b[0m\u001b[0m\n\u001b[1;32m   1660\u001b[0m     \u001b[0;32mdef\u001b[0m \u001b[0m_get_slice_axis\u001b[0m\u001b[0;34m(\u001b[0m\u001b[0mself\u001b[0m\u001b[0;34m,\u001b[0m \u001b[0mslice_obj\u001b[0m\u001b[0;34m:\u001b[0m \u001b[0mslice\u001b[0m\u001b[0;34m,\u001b[0m \u001b[0maxis\u001b[0m\u001b[0;34m:\u001b[0m \u001b[0mAxisInt\u001b[0m\u001b[0;34m)\u001b[0m\u001b[0;34m:\u001b[0m\u001b[0;34m\u001b[0m\u001b[0;34m\u001b[0m\u001b[0m\n",
            "\u001b[0;32m/usr/local/lib/python3.10/dist-packages/pandas/core/frame.py\u001b[0m in \u001b[0;36m_ixs\u001b[0;34m(self, i, axis)\u001b[0m\n\u001b[1;32m   3654\u001b[0m             \u001b[0;31m# if we are a copy, mark as such\u001b[0m\u001b[0;34m\u001b[0m\u001b[0;34m\u001b[0m\u001b[0m\n\u001b[1;32m   3655\u001b[0m             \u001b[0mcopy\u001b[0m \u001b[0;34m=\u001b[0m \u001b[0misinstance\u001b[0m\u001b[0;34m(\u001b[0m\u001b[0mnew_mgr\u001b[0m\u001b[0;34m.\u001b[0m\u001b[0marray\u001b[0m\u001b[0;34m,\u001b[0m \u001b[0mnp\u001b[0m\u001b[0;34m.\u001b[0m\u001b[0mndarray\u001b[0m\u001b[0;34m)\u001b[0m \u001b[0;32mand\u001b[0m \u001b[0mnew_mgr\u001b[0m\u001b[0;34m.\u001b[0m\u001b[0marray\u001b[0m\u001b[0;34m.\u001b[0m\u001b[0mbase\u001b[0m \u001b[0;32mis\u001b[0m \u001b[0;32mNone\u001b[0m\u001b[0;34m\u001b[0m\u001b[0;34m\u001b[0m\u001b[0m\n\u001b[0;32m-> 3656\u001b[0;31m             result = self._constructor_sliced(new_mgr, name=self.index[i]).__finalize__(\n\u001b[0m\u001b[1;32m   3657\u001b[0m                 \u001b[0mself\u001b[0m\u001b[0;34m\u001b[0m\u001b[0;34m\u001b[0m\u001b[0m\n\u001b[1;32m   3658\u001b[0m             )\n",
            "\u001b[0;32m/usr/local/lib/python3.10/dist-packages/pandas/core/series.py\u001b[0m in \u001b[0;36m__init__\u001b[0;34m(self, data, index, dtype, name, copy, fastpath)\u001b[0m\n\u001b[1;32m    389\u001b[0m                 \u001b[0mobject\u001b[0m\u001b[0;34m.\u001b[0m\u001b[0m__setattr__\u001b[0m\u001b[0;34m(\u001b[0m\u001b[0mself\u001b[0m\u001b[0;34m,\u001b[0m \u001b[0;34m\"_name\"\u001b[0m\u001b[0;34m,\u001b[0m \u001b[0mname\u001b[0m\u001b[0;34m)\u001b[0m\u001b[0;34m\u001b[0m\u001b[0;34m\u001b[0m\u001b[0m\n\u001b[1;32m    390\u001b[0m             \u001b[0;32melse\u001b[0m\u001b[0;34m:\u001b[0m\u001b[0;34m\u001b[0m\u001b[0;34m\u001b[0m\u001b[0m\n\u001b[0;32m--> 391\u001b[0;31m                 \u001b[0mself\u001b[0m\u001b[0;34m.\u001b[0m\u001b[0mname\u001b[0m \u001b[0;34m=\u001b[0m \u001b[0mname\u001b[0m\u001b[0;34m\u001b[0m\u001b[0;34m\u001b[0m\u001b[0m\n\u001b[0m\u001b[1;32m    392\u001b[0m             \u001b[0;32mreturn\u001b[0m\u001b[0;34m\u001b[0m\u001b[0;34m\u001b[0m\u001b[0m\n\u001b[1;32m    393\u001b[0m \u001b[0;34m\u001b[0m\u001b[0m\n",
            "\u001b[0;32m/usr/local/lib/python3.10/dist-packages/pandas/core/generic.py\u001b[0m in \u001b[0;36m__setattr__\u001b[0;34m(self, name, value)\u001b[0m\n\u001b[1;32m   6009\u001b[0m             \u001b[0mobject\u001b[0m\u001b[0;34m.\u001b[0m\u001b[0m__setattr__\u001b[0m\u001b[0;34m(\u001b[0m\u001b[0mself\u001b[0m\u001b[0;34m,\u001b[0m \u001b[0mname\u001b[0m\u001b[0;34m,\u001b[0m \u001b[0mvalue\u001b[0m\u001b[0;34m)\u001b[0m\u001b[0;34m\u001b[0m\u001b[0;34m\u001b[0m\u001b[0m\n\u001b[1;32m   6010\u001b[0m         \u001b[0;32melif\u001b[0m \u001b[0mname\u001b[0m \u001b[0;32min\u001b[0m \u001b[0mself\u001b[0m\u001b[0;34m.\u001b[0m\u001b[0m_metadata\u001b[0m\u001b[0;34m:\u001b[0m\u001b[0;34m\u001b[0m\u001b[0;34m\u001b[0m\u001b[0m\n\u001b[0;32m-> 6011\u001b[0;31m             \u001b[0mobject\u001b[0m\u001b[0;34m.\u001b[0m\u001b[0m__setattr__\u001b[0m\u001b[0;34m(\u001b[0m\u001b[0mself\u001b[0m\u001b[0;34m,\u001b[0m \u001b[0mname\u001b[0m\u001b[0;34m,\u001b[0m \u001b[0mvalue\u001b[0m\u001b[0;34m)\u001b[0m\u001b[0;34m\u001b[0m\u001b[0;34m\u001b[0m\u001b[0m\n\u001b[0m\u001b[1;32m   6012\u001b[0m         \u001b[0;32melse\u001b[0m\u001b[0;34m:\u001b[0m\u001b[0;34m\u001b[0m\u001b[0;34m\u001b[0m\u001b[0m\n\u001b[1;32m   6013\u001b[0m             \u001b[0;32mtry\u001b[0m\u001b[0;34m:\u001b[0m\u001b[0;34m\u001b[0m\u001b[0;34m\u001b[0m\u001b[0m\n",
            "\u001b[0;32m/usr/local/lib/python3.10/dist-packages/pandas/core/series.py\u001b[0m in \u001b[0;36mname\u001b[0;34m(self, value)\u001b[0m\n\u001b[1;32m    671\u001b[0m     \u001b[0;34m@\u001b[0m\u001b[0mname\u001b[0m\u001b[0;34m.\u001b[0m\u001b[0msetter\u001b[0m\u001b[0;34m\u001b[0m\u001b[0;34m\u001b[0m\u001b[0m\n\u001b[1;32m    672\u001b[0m     \u001b[0;32mdef\u001b[0m \u001b[0mname\u001b[0m\u001b[0;34m(\u001b[0m\u001b[0mself\u001b[0m\u001b[0;34m,\u001b[0m \u001b[0mvalue\u001b[0m\u001b[0;34m:\u001b[0m \u001b[0mHashable\u001b[0m\u001b[0;34m)\u001b[0m \u001b[0;34m->\u001b[0m \u001b[0;32mNone\u001b[0m\u001b[0;34m:\u001b[0m\u001b[0;34m\u001b[0m\u001b[0;34m\u001b[0m\u001b[0m\n\u001b[0;32m--> 673\u001b[0;31m         \u001b[0mvalidate_all_hashable\u001b[0m\u001b[0;34m(\u001b[0m\u001b[0mvalue\u001b[0m\u001b[0;34m,\u001b[0m \u001b[0merror_name\u001b[0m\u001b[0;34m=\u001b[0m\u001b[0;34mf\"{type(self).__name__}.name\"\u001b[0m\u001b[0;34m)\u001b[0m\u001b[0;34m\u001b[0m\u001b[0;34m\u001b[0m\u001b[0m\n\u001b[0m\u001b[1;32m    674\u001b[0m         \u001b[0mobject\u001b[0m\u001b[0;34m.\u001b[0m\u001b[0m__setattr__\u001b[0m\u001b[0;34m(\u001b[0m\u001b[0mself\u001b[0m\u001b[0;34m,\u001b[0m \u001b[0;34m\"_name\"\u001b[0m\u001b[0;34m,\u001b[0m \u001b[0mvalue\u001b[0m\u001b[0;34m)\u001b[0m\u001b[0;34m\u001b[0m\u001b[0;34m\u001b[0m\u001b[0m\n\u001b[1;32m    675\u001b[0m \u001b[0;34m\u001b[0m\u001b[0m\n",
            "\u001b[0;32m/usr/local/lib/python3.10/dist-packages/pandas/core/dtypes/common.py\u001b[0m in \u001b[0;36mvalidate_all_hashable\u001b[0;34m(error_name, *args)\u001b[0m\n\u001b[1;32m   1648\u001b[0m     \u001b[0;32mNone\u001b[0m\u001b[0;34m\u001b[0m\u001b[0;34m\u001b[0m\u001b[0m\n\u001b[1;32m   1649\u001b[0m     \"\"\"\n\u001b[0;32m-> 1650\u001b[0;31m     \u001b[0;32mif\u001b[0m \u001b[0;32mnot\u001b[0m \u001b[0mall\u001b[0m\u001b[0;34m(\u001b[0m\u001b[0mis_hashable\u001b[0m\u001b[0;34m(\u001b[0m\u001b[0marg\u001b[0m\u001b[0;34m)\u001b[0m \u001b[0;32mfor\u001b[0m \u001b[0marg\u001b[0m \u001b[0;32min\u001b[0m \u001b[0margs\u001b[0m\u001b[0;34m)\u001b[0m\u001b[0;34m:\u001b[0m\u001b[0;34m\u001b[0m\u001b[0;34m\u001b[0m\u001b[0m\n\u001b[0m\u001b[1;32m   1651\u001b[0m         \u001b[0;32mif\u001b[0m \u001b[0merror_name\u001b[0m\u001b[0;34m:\u001b[0m\u001b[0;34m\u001b[0m\u001b[0;34m\u001b[0m\u001b[0m\n\u001b[1;32m   1652\u001b[0m             \u001b[0;32mraise\u001b[0m \u001b[0mTypeError\u001b[0m\u001b[0;34m(\u001b[0m\u001b[0;34mf\"{error_name} must be a hashable type\"\u001b[0m\u001b[0;34m)\u001b[0m\u001b[0;34m\u001b[0m\u001b[0;34m\u001b[0m\u001b[0m\n",
            "\u001b[0;32m/usr/local/lib/python3.10/dist-packages/pandas/core/dtypes/common.py\u001b[0m in \u001b[0;36m<genexpr>\u001b[0;34m(.0)\u001b[0m\n\u001b[1;32m   1648\u001b[0m     \u001b[0;32mNone\u001b[0m\u001b[0;34m\u001b[0m\u001b[0;34m\u001b[0m\u001b[0m\n\u001b[1;32m   1649\u001b[0m     \"\"\"\n\u001b[0;32m-> 1650\u001b[0;31m     \u001b[0;32mif\u001b[0m \u001b[0;32mnot\u001b[0m \u001b[0mall\u001b[0m\u001b[0;34m(\u001b[0m\u001b[0mis_hashable\u001b[0m\u001b[0;34m(\u001b[0m\u001b[0marg\u001b[0m\u001b[0;34m)\u001b[0m \u001b[0;32mfor\u001b[0m \u001b[0marg\u001b[0m \u001b[0;32min\u001b[0m \u001b[0margs\u001b[0m\u001b[0;34m)\u001b[0m\u001b[0;34m:\u001b[0m\u001b[0;34m\u001b[0m\u001b[0;34m\u001b[0m\u001b[0m\n\u001b[0m\u001b[1;32m   1651\u001b[0m         \u001b[0;32mif\u001b[0m \u001b[0merror_name\u001b[0m\u001b[0;34m:\u001b[0m\u001b[0;34m\u001b[0m\u001b[0;34m\u001b[0m\u001b[0m\n\u001b[1;32m   1652\u001b[0m             \u001b[0;32mraise\u001b[0m \u001b[0mTypeError\u001b[0m\u001b[0;34m(\u001b[0m\u001b[0;34mf\"{error_name} must be a hashable type\"\u001b[0m\u001b[0;34m)\u001b[0m\u001b[0;34m\u001b[0m\u001b[0;34m\u001b[0m\u001b[0m\n",
            "\u001b[0;31mKeyboardInterrupt\u001b[0m: "
          ]
        }
      ],
      "source": [
        "def get_label_correlation(dataset, labels, threshold = 0.5):\n",
        "  data = dict()\n",
        "  for l_label_id in range(len(labels)):\n",
        "    for r_label_id in range(l_label_id+1, len(labels)):\n",
        "      l_label = labels[l_label_id]\n",
        "      r_label = labels[r_label_id]\n",
        "      combination = f\"{l_label}\\n{r_label}\"\n",
        "      data[combination] = (0, l_label, r_label)\n",
        "      for i in range(len(dataset)):\n",
        "        lab = dataset.get_label(i)\n",
        "        if lab[l_label_id] > threshold and lab[r_label_id] > threshold:\n",
        "          data[combination] = (data[combination][0] + 1, l_label, r_label)\n",
        "  data = [ (key, data[key]) for key in data ]\n",
        "  return data\n",
        "def analyze_label_correlation(dataset, labels):\n",
        "  quantities = GetDatasetInfo(dataset, labels)\n",
        "  correlation = get_label_correlation(dataset, labels)\n",
        "  results = []\n",
        "  for combined_labels, d in correlation:\n",
        "    num, l_label, r_label = d\n",
        "    l_label_num = quantities[l_label]\n",
        "    r_label_num = quantities[r_label]\n",
        "    correlation_percent = (num / min(l_label_num, r_label_num))\n",
        "    results.append( (combined_labels, correlation_percent) )\n",
        "  results = sorted(results, key=lambda x: x[1], reverse=True)\n",
        "  results = results[:15]\n",
        "  names = [ i[0] for i in results ]\n",
        "  values = [ i[1] for i in results ]\n",
        "  plt.figure(figsize=(12, 8))\n",
        "  plt.bar(names, values, color='skyblue')\n",
        "  plt.title(\"Poziom skorelowania par etykiet\")\n",
        "  plt.xlabel(\"Pary etykiet\")\n",
        "  plt.ylabel(\"Poziom skorelowania [%]\")\n",
        "  plt.xticks(rotation=60)\n",
        "  plt.tight_layout()\n",
        "  plt.grid()\n",
        "  plt.show()\n",
        "analyze_label_correlation(multimodal, LABELS)"
      ]
    },
    {
      "cell_type": "code",
      "source": [
        "\n",
        "def get_label_correlation(dataset, labels, threshold=0.5):\n",
        "    data = dict()\n",
        "    for l_label_id in range(len(labels)):\n",
        "        for r_label_id in range(l_label_id + 1, len(labels)):\n",
        "            l_label = labels[l_label_id]\n",
        "            r_label = labels[r_label_id]\n",
        "            combination = f\"{l_label}\\n{r_label}\"\n",
        "            data[combination] = (0, l_label, r_label)\n",
        "            for i in range(len(dataset)):\n",
        "                lab = dataset.get_label(i)\n",
        "                if lab[l_label_id] > threshold and lab[r_label_id] > threshold:\n",
        "                    data[combination] = (data[combination][0] + 1, l_label, r_label)\n",
        "    data = [(key, data[key]) for key in data]\n",
        "    return data\n",
        "\n",
        "def analyze_label_correlation(dataset, labels):\n",
        "    quantities = GetDatasetInfo(dataset, labels)\n",
        "    correlation = get_label_correlation(dataset, labels)\n",
        "    results = []\n",
        "\n",
        "    for combined_labels, d in correlation:\n",
        "        num, l_label, r_label = d\n",
        "        l_label_num = quantities[l_label]\n",
        "        r_label_num = quantities[r_label]\n",
        "        correlation_percent = (num / min(l_label_num, r_label_num))\n",
        "        results.append((combined_labels, num, l_label_num, r_label_num, correlation_percent))\n",
        "\n",
        "    # Sort results by correlation factor in descending order\n",
        "    results = sorted(results, key=lambda x: x[4], reverse=True)\n",
        "\n",
        "    # Generate LaTeX table\n",
        "    latex_table = \"\\\\begin{table}[H]\\n\\\\centering\\n\\\\begin{tabular}{|c|c|c|c|c|}\\n\\\\hline\\n\"\n",
        "    latex_table += \"Para etykiet & Liczność & Etykieta 1 & Etykieta 2 & Korelacja \\\\\\\\\\n\\\\hline\\n\"\n",
        "\n",
        "    for combined_labels, num, l_label_num, r_label_num, correlation_percent in results:\n",
        "        combined_labels = combined_labels.replace(\"\\n\", \", \")\n",
        "        line = f\"{combined_labels} & {num} & {l_label_num} & {r_label_num} & {correlation_percent:.2f}\" +\" \\\\\\\\\\n\\\\hline\\n\"\n",
        "        line = line.replace(\"_\", \"\\_\")\n",
        "        latex_table += line\n",
        "\n",
        "    latex_table += \"\\\\end{tabular}\\n\\\\caption{Korelacja etykiet}\\n\\\\end{table}\"\n",
        "\n",
        "    print(latex_table)\n",
        "\n",
        "analyze_label_correlation(multimodal, LABELS)\n"
      ],
      "metadata": {
        "id": "yJEuW6SKrcxW"
      },
      "execution_count": null,
      "outputs": []
    },
    {
      "cell_type": "code",
      "source": [
        "def analyze_label_num(dataset):\n",
        "  all_num = []\n",
        "  for i in range(len(dataset)):\n",
        "    l = dataset.get_label(i)\n",
        "    num = sum(l)\n",
        "    all_num.append(num)\n",
        "  return np.min(all_num), np.mean(all_num), np.std(all_num), np.max(all_num)\n",
        "print(analyze_label_num(multimodal))"
      ],
      "metadata": {
        "id": "3KuRGqsE2jYl"
      },
      "execution_count": null,
      "outputs": []
    },
    {
      "cell_type": "markdown",
      "metadata": {
        "id": "yg8mo4YeB7kC"
      },
      "source": [
        "## Text analysis"
      ]
    },
    {
      "cell_type": "code",
      "execution_count": null,
      "metadata": {
        "id": "yiF5jG-116Y8",
        "colab": {
          "base_uri": "https://localhost:8080/",
          "height": 759,
          "referenced_widgets": [
            "3db2d52a62c5454ba4f8fa64de19263f",
            "94ed626538374c5ca25b0b80e3afdb2c",
            "354f37f21d754c81be3250ba775d89b5",
            "a1d85160138c42139382e0551ed268c4",
            "83445fa5e4614efb932da9b3be57e158",
            "28a0f5e3390d4b428d0ba1e74c60e505",
            "3015eb8b3aae48369fe54545fa77fdbf",
            "4150af55e359443cb6c281a81080b82f",
            "1f8eab48e2f747fd906a756f9ce11f72",
            "05b82b54e4394bf09786ed29a997a22e",
            "bb4f82e8bb0744d5be4a88c4d1821f70",
            "c740c8ef910b467d9ca4cb603f4c68b1",
            "0ce833b785e546ed80e18d8877e89970",
            "2bbced64a1464ce991fa5afe86049c40",
            "8e2419c8ef5f416493cc9ea1a90cbdc9",
            "b419b0ccd3cc47609d00cf3b621e6129",
            "631b2ac7aca54c0d8b28fc199851be26",
            "9315ed29d2b6431b86a0429df59b3a43",
            "9c4caa6c493844299028c939ccb14e25",
            "ca1756d7a8b64ac6a7788f42dcf6cf06",
            "b16447a251e04f609550c2736ced4e6a",
            "f8241e17d9b74fc59a9693bc333617b6",
            "d8249e6522854efeb23b292b072340d4",
            "ec075a3a5c7b4690897da136aebcf02d",
            "0b19437078994c54ad8cc460a1487ea2",
            "47d20688809b4edc91dec5eda2964cb2",
            "82a56f0b4cba4b86a9aed068edf66654",
            "a8035288d6974c1c9179344940e5de5e",
            "e4a81b789b8d464f973e6b38e1532907",
            "e0975fd726964dd2b7576361afcaa602",
            "784cb8cf8b9649419059b48af079958d",
            "6747f063383c4f719d06e00960d71d56",
            "fcdfbd4b826a4c78b079298a05947dff",
            "5fbaa24d69954dcebcd899c10912cac5",
            "856f59aa062745768dce3624d33fc622",
            "8b3829e2ff80488690b557dae6e4f96b",
            "499f458ee05d4b95900b80de20f32b33",
            "0e9247f29c0a4350a8766b1064a82c09",
            "9ebf9a458cfd4066866ecf0ee635497a",
            "27d4b6780d6a47b4b51dc161cd5b5a2e",
            "a3533b8f704b47f5a0e74b1835d55a31",
            "d901cb7fcf5f43939c5baf171376025c",
            "086f7d36383246fcb45a2e21949e1f66",
            "e5bdb9d1088745259cf52c3b25a91f5e"
          ]
        },
        "outputId": "266ae86e-9d6d-48f1-f24e-7f37c343dd59"
      },
      "outputs": [
        {
          "output_type": "display_data",
          "data": {
            "text/plain": [
              "tokenizer_config.json:   0%|          | 0.00/49.0 [00:00<?, ?B/s]"
            ],
            "application/vnd.jupyter.widget-view+json": {
              "version_major": 2,
              "version_minor": 0,
              "model_id": "3db2d52a62c5454ba4f8fa64de19263f"
            }
          },
          "metadata": {}
        },
        {
          "output_type": "stream",
          "name": "stderr",
          "text": [
            "/usr/local/lib/python3.10/dist-packages/huggingface_hub/file_download.py:1132: FutureWarning: `resume_download` is deprecated and will be removed in version 1.0.0. Downloads always resume when possible. If you want to force a new download, use `force_download=True`.\n",
            "  warnings.warn(\n"
          ]
        },
        {
          "output_type": "display_data",
          "data": {
            "text/plain": [
              "config.json:   0%|          | 0.00/570 [00:00<?, ?B/s]"
            ],
            "application/vnd.jupyter.widget-view+json": {
              "version_major": 2,
              "version_minor": 0,
              "model_id": "c740c8ef910b467d9ca4cb603f4c68b1"
            }
          },
          "metadata": {}
        },
        {
          "output_type": "display_data",
          "data": {
            "text/plain": [
              "vocab.txt:   0%|          | 0.00/213k [00:00<?, ?B/s]"
            ],
            "application/vnd.jupyter.widget-view+json": {
              "version_major": 2,
              "version_minor": 0,
              "model_id": "d8249e6522854efeb23b292b072340d4"
            }
          },
          "metadata": {}
        },
        {
          "output_type": "display_data",
          "data": {
            "text/plain": [
              "tokenizer.json:   0%|          | 0.00/436k [00:00<?, ?B/s]"
            ],
            "application/vnd.jupyter.widget-view+json": {
              "version_major": 2,
              "version_minor": 0,
              "model_id": "5fbaa24d69954dcebcd899c10912cac5"
            }
          },
          "metadata": {}
        },
        {
          "output_type": "stream",
          "name": "stderr",
          "text": [
            " 45%|████▌     | 700/1542 [00:11<00:09, 89.73it/s]Token indices sequence length is longer than the specified maximum sequence length for this model (778 > 512). Running this sequence through the model will result in indexing errors\n",
            "100%|██████████| 1542/1542 [00:21<00:00, 70.21it/s]\n"
          ]
        },
        {
          "output_type": "stream",
          "name": "stdout",
          "text": [
            "\n",
            "Samples containing text: 1174/1542 [76.13%]\n",
            "Text length in tokens: min 1, avg 46.04, std 82.76, max 2224\n",
            "Unique tokens=6856, total=54055, diversity=0.127\n"
          ]
        },
        {
          "output_type": "display_data",
          "data": {
            "text/plain": [
              "<Figure size 640x480 with 1 Axes>"
            ],
            "image/png": "[encoded data removed]"
          },
          "metadata": {}
        }
      ],
      "source": [
        "def analyze_texts(dataset, tokenizer = transformers.AutoTokenizer.from_pretrained(\"bert-base-cased\")):\n",
        "  loop = tqdm(range( len(dataset) ), total=len(dataset))\n",
        "  has_text = 0\n",
        "  lengths = []\n",
        "  all_tokens = []\n",
        "  for idx in loop:\n",
        "    _, text, _ = dataset[idx]\n",
        "    tokens = tokenizer.tokenize(text)\n",
        "    if len(tokens) > 0:\n",
        "      has_text = has_text + 1\n",
        "      lengths.append( len(tokens) )\n",
        "      all_tokens.extend(tokens)\n",
        "  lengths = np.array(lengths)\n",
        "  min_length = np.min(lengths)\n",
        "  max_length = np.max(lengths)\n",
        "  average = np.mean(lengths)\n",
        "  stddev = np.std(lengths)\n",
        "  total_tokens = len(all_tokens)\n",
        "  unique_tokens = len(set(all_tokens))\n",
        "  diversity = unique_tokens / total_tokens\n",
        "  has_text_percentage = (has_text / len(dataset)) * 100\n",
        "  # Statistics\n",
        "  print()\n",
        "  print(f\"Samples containing text: {has_text}/{len(dataset)} [{has_text_percentage:.2f}%]\")\n",
        "  print(f\"Text length in tokens: min {min_length}, avg {average:.2f}, std {stddev:.2f}, max {max_length}\")\n",
        "  print(f\"Unique tokens={unique_tokens}, total={total_tokens}, diversity={diversity:.3f}\")\n",
        "  # Visualization\n",
        "  lengths = np.array(lengths)\n",
        "  lengths = lengths[lengths<=600] # A BODGE FOR VISUALIZATION!\n",
        "  plt.figure()\n",
        "  plt.hist(lengths, bins=len(set(lengths)))\n",
        "  plt.title(\"Histogram - Długość tekstu (w tokenach)\")\n",
        "  plt.xlabel(\"Ilość tokenów w tekście\")\n",
        "  plt.ylabel(\"Liczność\")\n",
        "  plt.show()\n",
        "analyze_texts(multimodal)"
      ]
    },
    {
      "cell_type": "code",
      "execution_count": null,
      "metadata": {
        "id": "x3MKM-I012vc",
        "colab": {
          "base_uri": "https://localhost:8080/",
          "height": 562
        },
        "outputId": "0839510a-ac5f-41b0-a671-a5f711040774"
      },
      "outputs": [
        {
          "output_type": "stream",
          "name": "stderr",
          "text": [
            " 46%|████▌     | 707/1542 [00:07<00:09, 88.35it/s]Token indices sequence length is longer than the specified maximum sequence length for this model (778 > 512). Running this sequence through the model will result in indexing errors\n",
            "100%|██████████| 1542/1542 [00:18<00:00, 81.19it/s]\n"
          ]
        },
        {
          "output_type": "stream",
          "name": "stdout",
          "text": [
            "\n",
            "Token length in characters: min 1, avg 3.06, std 1.75, max 14\n"
          ]
        },
        {
          "output_type": "display_data",
          "data": {
            "text/plain": [
              "<Figure size 640x480 with 1 Axes>"
            ],
            "image/png": "[encoded data removed]"
          },
          "metadata": {}
        }
      ],
      "source": [
        "def analyze_tokens(dataset, tokenizer = transformers.AutoTokenizer.from_pretrained(\"bert-base-cased\")):\n",
        "  loop = tqdm(range( len(dataset) ), total=len(dataset))\n",
        "  lengths = []\n",
        "  for idx in loop:\n",
        "    _, text, _ = dataset[idx]\n",
        "    tokens = tokenizer.tokenize(text)\n",
        "    for token in tokens:\n",
        "      lengths.append(len(token))\n",
        "  lengths = np.array(lengths)\n",
        "  min_length = np.min(lengths)\n",
        "  max_length = np.max(lengths)\n",
        "  average = np.mean(lengths)\n",
        "  stddev = np.std(lengths)\n",
        "  # Statistics\n",
        "  print()\n",
        "  print(f\"Token length in characters: min {min_length}, avg {average:.2f}, std {stddev:.2f}, max {max_length}\")\n",
        "  # Visualization\n",
        "  plt.figure()\n",
        "  plt.hist(lengths, bins=len(set(lengths)))\n",
        "  plt.title(\"Histogram - Długość tokenu (w znakach)\")\n",
        "  plt.xlabel(\"Długość tokenu w znakach\")\n",
        "  plt.ylabel(\"Liczność\")\n",
        "  plt.show()\n",
        "analyze_tokens(multimodal)"
      ]
    },
    {
      "cell_type": "markdown",
      "metadata": {
        "id": "00E0TsNnLtEm"
      },
      "source": [
        "# **Classifier model**\n",
        "\n",
        "---\n",
        "\n"
      ]
    },
    {
      "cell_type": "code",
      "execution_count": null,
      "metadata": {
        "id": "FChuHZpyFmLu",
        "colab": {
          "base_uri": "https://localhost:8080/"
        },
        "outputId": "871b29c0-fdce-4aa0-e3d9-7b17d4b577b6"
      },
      "outputs": [
        {
          "output_type": "stream",
          "name": "stderr",
          "text": [
            "100%|██████████| 37/37 [00:29<00:00,  1.26it/s]\n"
          ]
        },
        {
          "output_type": "stream",
          "name": "stdout",
          "text": [
            "Image variance explained: 0.9833711981773376\n"
          ]
        },
        {
          "output_type": "stream",
          "name": "stderr",
          "text": [
            "100%|██████████| 37/37 [00:25<00:00,  1.45it/s]\n"
          ]
        },
        {
          "output_type": "stream",
          "name": "stdout",
          "text": [
            "Text variance explained: 0.9997891187667847\n"
          ]
        },
        {
          "output_type": "stream",
          "name": "stderr",
          "text": [
            "100%|██████████| 37/37 [00:22<00:00,  1.66it/s]\n"
          ]
        },
        {
          "output_type": "stream",
          "name": "stdout",
          "text": [
            "FFT variance explained: 1.0\n"
          ]
        }
      ],
      "source": [
        "IMAGE_PCA = PCA_Transform(FEATURES_SIZE, TRAIN_LOADER, lambda data: IMAGE_MODEL(data[0].to(DEVICE)) )\n",
        "print(f\"Image variance explained: {IMAGE_PCA.total_variance_ratio()}\")\n",
        "TEXT_PCA = PCA_Transform(FEATURES_SIZE, TRAIN_LOADER, lambda data: TEXT_MODEL(data[2].to(DEVICE)) )\n",
        "print(f\"Text variance explained: {TEXT_PCA.total_variance_ratio()}\")\n",
        "FFT_PCA = PCA_Transform(FEATURES_SIZE, TRAIN_LOADER, lambda data: FFT_MODEL(data[1].to(DEVICE)) )\n",
        "print(f\"FFT variance explained: {FFT_PCA.total_variance_ratio()}\")"
      ]
    },
    {
      "cell_type": "code",
      "execution_count": null,
      "metadata": {
        "id": "UgzjZwfgJGwu"
      },
      "outputs": [],
      "source": [
        "class Classifier(nn.Module):\n",
        "  def __init__(self, num_labels, image_model, image_pca, text_model, text_pca, fft_model, fft_pca):\n",
        "    super(Classifier, self).__init__()\n",
        "    self.image_model = image_model\n",
        "    self.image_pca = image_pca\n",
        "    self.text_model = text_model\n",
        "    self.text_pca = text_pca\n",
        "    self.fft_model = fft_model\n",
        "    self.fft_pca = fft_pca\n",
        "    self.classifier = nn.Sequential(\n",
        "        nn.Dropout(p = 0.25),\n",
        "        nn.Linear(in_features = FEATURES_SIZE*2, out_features = 512, bias = True),\n",
        "        nn.ReLU(),\n",
        "        #nn.Dropout(p = 0.25),\n",
        "        #nn.Linear(in_features = 512, out_features = 512, bias = True),\n",
        "        #nn.ReLU(),\n",
        "        nn.Dropout(p = 0.25),\n",
        "        nn.Linear(in_features = 512, out_features = num_labels, bias = True)\n",
        "    )\n",
        "\n",
        "  def __max_tensors(self, tensors_tuple):\n",
        "    output = tensors_tuple[0]\n",
        "    for tensor in tensors_tuple[1:]: output = torch.max(output, tensor)\n",
        "    return output\n",
        "\n",
        "  def normalize_features(self, feature_tuple):\n",
        "    return tuple([ nn.functional.normalize(f, p=2, dim=1) for f in feature_tuple ])\n",
        "\n",
        "  def merge_features(self, feature_tuple):\n",
        "    return torch.cat(feature_tuple, dim=1) # concatenation\n",
        "    #return self.__max_tensors(feature_tuple) # max value for each feature\n",
        "    #return torch.stack(feature_tuple).mean(dim=0) # average\n",
        "\n",
        "  def forward(self, image, image_for_fft, encodings):\n",
        "    image_features = self.image_model(image)\n",
        "    image_features = self.image_pca(image_features)\n",
        "    text_features = self.text_model(encodings)\n",
        "    text_features = self.text_pca(text_features)\n",
        "    #fft_features = self.fft_model(image_for_fft)\n",
        "    #fft_features = self.fft_pca(fft_features)\n",
        "    feature_tuple = self.normalize_features( tuple([image_features, text_features]) )\n",
        "    features = self.merge_features( feature_tuple )\n",
        "    return self.classifier(features)"
      ]
    },
    {
      "cell_type": "markdown",
      "metadata": {
        "id": "G8StRs4wHGIi"
      },
      "source": [
        "# **Training loop**\n",
        "\n",
        "---\n",
        "\n"
      ]
    },
    {
      "cell_type": "code",
      "execution_count": null,
      "metadata": {
        "id": "YM8Ttvoo-g85"
      },
      "outputs": [],
      "source": [
        "epochs = 50\n",
        "learning_rate = 0.0004\n",
        "gamma = 0.98\n",
        "model_title = \"RESNET50 + DistilRoBERTa\""
      ]
    },
    {
      "cell_type": "markdown",
      "metadata": {
        "id": "F84TgXGwNRR-"
      },
      "source": [
        "## Metrics & co"
      ]
    },
    {
      "cell_type": "code",
      "execution_count": null,
      "metadata": {
        "id": "7jfRuTooNTZl"
      },
      "outputs": [],
      "source": [
        "def compute_metrics(targets, outputs, thresholds, num_labels):\n",
        "  auc_scores = []\n",
        "  f1_scores = []\n",
        "  for i in range(num_labels):\n",
        "    y, y_scores = targets[:,i], outputs[:,i]\n",
        "    fpr, tpr, _ = sklearn.metrics.roc_curve(y_true=y, y_score=y_scores)\n",
        "    auc = sklearn.metrics.auc(x=fpr, y=tpr)\n",
        "    auc_scores.append(auc)\n",
        "    y_pred = np.where(y_scores > thresholds[i], 1, 0)\n",
        "    f1 = sklearn.metrics.f1_score(y, y_pred)\n",
        "    f1_scores.append(f1)\n",
        "  return auc_scores, f1_scores\n",
        "\n",
        "def compute_optimal_thresholds(targets, outputs, num_labels, iota = 0.00001):\n",
        "  label_thresholds = []\n",
        "  for i in range(num_labels):\n",
        "    y, y_scores = targets[:,i], outputs[:,i]\n",
        "    precision, recall, thresholds = sklearn.metrics.precision_recall_curve(y, y_scores)\n",
        "    optimal_idx = np.argmax( 2 *(precision*recall)/(precision+recall+iota) )\n",
        "    optimal_threshold = thresholds[optimal_idx]\n",
        "    label_thresholds.append(optimal_threshold)\n",
        "  return label_thresholds\n",
        "\n",
        "def plot_chart(history, title, xlabel, ylabel, labels, offset, key, epoch, avg):\n",
        "  plt.figure(figsize=(15, 10))\n",
        "  for i in range(len(labels)):\n",
        "    val = [ row[key][i+offset] for row in history ]\n",
        "    plt.plot(epoch, val, label=labels[i])\n",
        "  plt.plot(epoch, avg, label=\"Średnia\")\n",
        "  plt.xlabel(xlabel)\n",
        "  plt.ylabel(ylabel)\n",
        "  plt.title(title)\n",
        "  plt.grid()\n",
        "  plt.legend(loc='lower right')\n",
        "  plt.show()\n",
        "\n",
        "def plot_history(model_title, history, labels):\n",
        "  epoch = [ i+1 for i in range(len(history)) ]\n",
        "  # Loss chart\n",
        "  train_loss = [ row['train_loss'] for row in history ]\n",
        "  test_loss = [ row['test_loss'] for row in history ]\n",
        "  plt.figure(figsize=(15, 10))\n",
        "  plt.plot(epoch, train_loss, label=\"Zbiór uczący\")\n",
        "  plt.plot(epoch, test_loss, label=\"Zbiór testowy\")\n",
        "  plt.xlabel(\"Epoka\")\n",
        "  plt.ylabel(\"Średnia wartość funkcji straty\")\n",
        "  plt.title(f\"{model_title}: Wartość funkcji straty w zależności od epoki\")\n",
        "  plt.grid()\n",
        "  plt.legend(loc='lower right')\n",
        "  plt.show()\n",
        "  # AUC chart\n",
        "  avg_auc = [ sum(row['auc']) / len(labels) for row in history ]\n",
        "  plot_chart(history, f\"{model_title}: Wartość AUC w zależności od epoki\", \"Epoka\", \"Wartość AUC\", labels[:int(len(labels)/2)], 0, 'auc', epoch, avg_auc)\n",
        "  plot_chart(history, f\"{model_title}: Wartość AUC w zależności od epoki\", \"Epoka\", \"Wartość AUC\", labels[int(len(labels)/2):], int(len(labels)/2), 'auc', epoch, avg_auc)\n",
        "  # F1 chart\n",
        "  avg_f1 = [ sum(row['f1']) / len(labels) for row in history ]\n",
        "  plot_chart(history, f\"{model_title}: Wartość F1-score w zależności od epoki\", \"Epoka\", \"F1-score\", labels[:int(len(labels)/2)], 0, 'f1', epoch, avg_f1)\n",
        "  plot_chart(history, f\"{model_title}: Wartość F1-score w zależności od epoki\", \"Epoka\", \"F1-score\", labels[int(len(labels)/2):], int(len(labels)/2), 'f1', epoch, avg_f1)\n",
        "\n",
        "def update_history(history, labels): # Bodge\n",
        "  h = copy.deepcopy(history)\n",
        "  for epoch in h:\n",
        "    targets = epoch['targets']\n",
        "    outputs = epoch['outputs']\n",
        "    thresholds = compute_optimal_thresholds(targets, outputs, len(labels))\n",
        "    p, r, aupr, f1 = [], [], [], []\n",
        "    for i in range(len(labels)):\n",
        "      y, y_scores = targets[:,i], outputs[:,i]\n",
        "      y_pred = np.where(y_scores > thresholds[i], 1, 0)\n",
        "      p.append(sklearn.metrics.precision_score(y_true=y, y_pred=y_pred))\n",
        "      r.append(sklearn.metrics.recall_score(y_true=y, y_pred=y_pred))\n",
        "      f1.append( sklearn.metrics.f1_score(y_true=y, y_pred=y_pred) )\n",
        "      aupr.append( sklearn.metrics.average_precision_score(y_true=y, y_score=y_scores) )\n",
        "    epoch['precision'] = p\n",
        "    epoch['recall'] = r\n",
        "    epoch['aupr'] = aupr\n",
        "    epoch['f1'] = f1\n",
        "  return h\n",
        "\n",
        "def convert_history_to_metrics_dict(hist, priority = 'f1', depth = 5):\n",
        "  h = sorted(hist, key=lambda x: sum(x[priority]) / len(x[priority]), reverse = True)\n",
        "  h = h[:depth]\n",
        "  metrics_dict = dict()\n",
        "  for i in range(len(LABELS)):\n",
        "    label = LABELS[i]\n",
        "    auc = [ epoch['auc'][i] for epoch in h ]\n",
        "    auc = sum(auc) / len(auc)\n",
        "    f1 = [ epoch['f1'][i] for epoch in h ]\n",
        "    f1 = sum(f1) / len(f1)\n",
        "    precision = [ epoch['precision'][i] for epoch in h ]\n",
        "    precision = sum(precision) / len(precision)\n",
        "    recall = [ epoch['recall'][i] for epoch in h ]\n",
        "    recall = sum(recall) / len(recall)\n",
        "    aupr = [ epoch['aupr'][i] for epoch in h ]\n",
        "    aupr = sum(aupr) / len(aupr)\n",
        "    metrics_dict[label] = { 'auc':auc, 'f1':f1, 'precision':precision, 'recall':recall, 'aupr':aupr }\n",
        "  return metrics_dict\n",
        "\n",
        "def metrics_table(metrics_dict):\n",
        "  latex_table = \"\\\\begin{table}[h!]\\n\\\\centering\\n\\\\begin{tabular}{|c|c|c|c|c|c|}\\n\\\\hline\\n\"\n",
        "  latex_table += \"Etykieta & AUC & Precision & Recall & F1 & AUPR \\\\\\\\\\n\\\\hline\\n\"\n",
        "\n",
        "  for label, metrics in metrics_dict.items():\n",
        "      latex_table += f\"{label} & {metrics['auc']:.3f} & {metrics['precision']:.3f} & {metrics['recall']:.3f} & { metrics['f1']:.3f} & {metrics['aupr']:.3f} \\\\\\\\\\n\"\n",
        "\n",
        "  average_auc = np.mean([v['auc'] for v in metrics_dict.values()])\n",
        "  average_precision = np.mean([v['precision'] for v in metrics_dict.values()])\n",
        "  average_recall = np.mean([v['recall'] for v in metrics_dict.values()])\n",
        "  average_f1 = np.mean([v['f1'] for v in metrics_dict.values()])\n",
        "  average_aupr = np.mean([v['aupr'] for v in metrics_dict.values()])\n",
        "  latex_table += \"\\\\hline\\n\"\n",
        "  latex_table += f\"Średnia & {average_auc:.3f} & {average_precision:.3f} & {average_recall:.3f} & {average_f1:.3f} & {average_aupr:.3f} \\\\\\\\\\n\"\n",
        "  latex_table += \"\\\\hline\\n\"\n",
        "  latex_table += \"\\\\end{tabular}\\n\\\\caption{Metrics per label}\\n\\\\label{tab:metrics}\\n\\\\end{table}\"\n",
        "  return latex_table"
      ]
    },
    {
      "cell_type": "markdown",
      "metadata": {
        "id": "e_SWaR8hveXs"
      },
      "source": [
        "## Functions, loop"
      ]
    },
    {
      "cell_type": "code",
      "execution_count": null,
      "metadata": {
        "id": "6Bi5B_0P1rDM",
        "colab": {
          "base_uri": "https://localhost:8080/",
          "height": 472
        },
        "outputId": "af7f0a17-8b28-47ad-81a1-05f8a55991e8"
      },
      "outputs": [
        {
          "output_type": "display_data",
          "data": {
            "text/plain": [
              "<Figure size 640x480 with 1 Axes>"
            ],
            "image/png": "[encoded data removed]"
          },
          "metadata": {}
        }
      ],
      "source": [
        "plt.figure()\n",
        "X = [ i for i in range(epochs) ]\n",
        "Y = [ learning_rate * (gamma**i) for i in range(epochs) ]\n",
        "plt.plot(X,Y)\n",
        "plt.xlabel(\"Epoka\")\n",
        "plt.ylabel(\"Learning rate\")\n",
        "plt.title(\"Zmiana learning rate w trakcie uczenia\")\n",
        "plt.grid()\n",
        "plt.show()"
      ]
    },
    {
      "cell_type": "code",
      "execution_count": null,
      "metadata": {
        "id": "srGtxnWEHL66"
      },
      "outputs": [],
      "source": [
        "model = Classifier(len(LABELS), IMAGE_MODEL, IMAGE_PCA, TEXT_MODEL, TEXT_PCA, FFT_MODEL, FFT_PCA ).to(DEVICE)\n",
        "optimizer = torch.optim.Adam(model.parameters(), lr=learning_rate)\n",
        "scheduler = lr_scheduler.ExponentialLR(optimizer, gamma=gamma)\n",
        "criterion = nn.BCEWithLogitsLoss(weight = WEIGHTS)\n",
        "activation = nn.Sigmoid()"
      ]
    },
    {
      "cell_type": "code",
      "execution_count": null,
      "metadata": {
        "id": "9keK98IvHgDH"
      },
      "outputs": [],
      "source": [
        "def train_step(epoch, model, optimizer, criterion, activation, loader):\n",
        "  model.train()\n",
        "  loop = tqdm(loader)\n",
        "  losses = 0.0\n",
        "  all_targets = []\n",
        "  all_outputs = []\n",
        "  for idx, data in enumerate(loop):\n",
        "    image, image_for_fft, encodings, labels = data\n",
        "    image, image_for_fft, encodings, labels = image.to(DEVICE), image_for_fft.to(DEVICE), encodings.to(DEVICE), labels.to(DEVICE)\n",
        "    optimizer.zero_grad()\n",
        "    outputs = model(image, image_for_fft, encodings)\n",
        "    loss = criterion(outputs, labels)\n",
        "    all_targets.append( labels.cpu().numpy() )\n",
        "    all_outputs.append( activation(outputs).cpu().detach().numpy() )\n",
        "    loss.backward()\n",
        "    optimizer.step()\n",
        "    losses = losses + loss.item()\n",
        "    loop.set_postfix(epoch=epoch, loss = loss.item())\n",
        "  average_loss = losses / len(loader)\n",
        "  all_targets = np.concatenate(all_targets, axis=0)\n",
        "  all_outputs = np.concatenate(all_outputs, axis=0)\n",
        "  return average_loss, all_targets, all_outputs\n",
        "\n",
        "def test_step(epoch, model, criterion, activation, loader):\n",
        "  model.eval()\n",
        "  with torch.no_grad():\n",
        "    all_targets = []\n",
        "    all_outputs = []\n",
        "    loop = tqdm(loader)\n",
        "    losses = 0.0\n",
        "    for idx, data in enumerate(loop):\n",
        "      image, image_for_fft, encodings, labels = data\n",
        "      image, image_for_fft, encodings, labels = image.to(DEVICE), image_for_fft.to(DEVICE), encodings.to(DEVICE), labels.to(DEVICE)\n",
        "      outputs = model(image, image_for_fft, encodings)\n",
        "      loss = criterion(outputs, labels)\n",
        "      all_targets.append( labels.cpu().numpy() )\n",
        "      all_outputs.append( activation(outputs).cpu().numpy() )\n",
        "      losses = losses + loss.item()\n",
        "      loop.set_postfix(epoch=epoch, test_loss = loss.item())\n",
        "    average_loss = losses / len(loader)\n",
        "    all_targets = np.concatenate(all_targets, axis=0)\n",
        "    all_outputs = np.concatenate(all_outputs, axis=0)\n",
        "    return average_loss, all_targets, all_outputs\n",
        "\n",
        "history = []\n",
        "for epoch in range(epochs):\n",
        "  train_loss, train_targets, train_outputs = train_step(epoch+1, model, optimizer, criterion, activation, TRAIN_LOADER)\n",
        "  thresholds = compute_optimal_thresholds(train_targets, train_outputs, len(LABELS))\n",
        "  test_loss, targets, outputs = test_step(epoch+1, model, criterion, activation, TEST_LOADER)\n",
        "  auc, f1 = compute_metrics(targets, outputs, thresholds, len(LABELS))\n",
        "  scheduler.step()\n",
        "  print(f\"Epoch {epoch+1}: avg_train_loss={train_loss:.3f}, avg_test_loss={test_loss:.3f}, auc={sum(auc)/len(auc) :.3f}, f1={sum(f1)/len(f1) :.3f}\")\n",
        "  history.append( {'train_loss':train_loss, 'test_loss':test_loss, 'auc':auc, 'f1':f1, 'targets':targets, 'outputs':outputs} ) # f1 from here isn't used"
      ]
    },
    {
      "cell_type": "code",
      "execution_count": null,
      "metadata": {
        "id": "FeOdJzkJIUfa"
      },
      "outputs": [],
      "source": [
        "SaveBin(history, f\"{model_title}.history\")"
      ]
    },
    {
      "cell_type": "markdown",
      "metadata": {
        "id": "jUWKEWz8vkPc"
      },
      "source": [
        "## Results"
      ]
    },
    {
      "cell_type": "code",
      "execution_count": null,
      "metadata": {
        "id": "and6mXoSIVOP"
      },
      "outputs": [],
      "source": [
        "history = LoadBin(f\"{model_title}.history\")\n",
        "history = update_history(history, LABELS)"
      ]
    },
    {
      "cell_type": "code",
      "execution_count": null,
      "metadata": {
        "id": "kVJ29qdkzeaf"
      },
      "outputs": [],
      "source": [
        "plot_history(model_title, history, LABELS)"
      ]
    },
    {
      "cell_type": "code",
      "execution_count": null,
      "metadata": {
        "id": "8KOFbPMsZEpD"
      },
      "outputs": [],
      "source": [
        "print(metrics_table(convert_history_to_metrics_dict(history)))"
      ]
    },
    {
      "cell_type": "code",
      "source": [
        "from google.colab import runtime\n",
        "runtime.unassign()"
      ],
      "metadata": {
        "id": "FQKiAbiKmBNl"
      },
      "execution_count": null,
      "outputs": []
    },
    {
      "cell_type": "markdown",
      "metadata": {
        "id": "3K0Doib7ICxb"
      },
      "source": [
        "# **Development's sandbox**\n",
        "\n",
        "---\n",
        "\n"
      ]
    },
    {
      "cell_type": "markdown",
      "metadata": {
        "id": "aq4zGf2_x4Cw"
      },
      "source": [
        "## FFT ResNet + Tiny ImageNet"
      ]
    },
    {
      "cell_type": "code",
      "execution_count": null,
      "metadata": {
        "id": "sjIP8K6pyB4g"
      },
      "outputs": [],
      "source": [
        "import torch\n",
        "import torch.nn as nn\n",
        "import torch.optim as optim\n",
        "from torchvision import datasets, transforms, models\n",
        "from torch.utils.data import DataLoader, Dataset\n",
        "import numpy as np\n",
        "import os\n",
        "import requests\n",
        "import zipfile\n",
        "from PIL import Image\n",
        "from torchvision.transforms.v2 import ToPILImage\n",
        "import tqdm\n",
        "from matplotlib import pyplot as plt\n",
        "from sklearn import metrics\n",
        "import torch.nn.functional as F"
      ]
    },
    {
      "cell_type": "code",
      "execution_count": null,
      "metadata": {
        "id": "IPj8OLiuyHnn"
      },
      "outputs": [],
      "source": [
        "# Function to download and extract Tiny ImageNet\n",
        "def download_tiny_imagenet(data_dir='./data'):\n",
        "    if not os.path.exists(data_dir):\n",
        "        os.makedirs(data_dir)\n",
        "    url = 'http://cs231n.stanford.edu/tiny-imagenet-200.zip'\n",
        "    zip_path = os.path.join(data_dir, 'tiny-imagenet-200.zip')\n",
        "    if not os.path.exists(zip_path):\n",
        "        print('Downloading Tiny ImageNet...')\n",
        "        response = requests.get(url, stream=True)\n",
        "        with open(zip_path, 'wb') as f:\n",
        "            f.write(response.content)\n",
        "        print('Download complete.')\n",
        "\n",
        "    extract_dir = os.path.join(data_dir, 'tiny-imagenet-200')\n",
        "    if not os.path.exists(extract_dir):\n",
        "        print('Extracting Tiny ImageNet...')\n",
        "        with zipfile.ZipFile(zip_path, 'r') as zip_ref:\n",
        "            zip_ref.extractall(data_dir)\n",
        "        print('Extraction complete.')"
      ]
    },
    {
      "cell_type": "code",
      "execution_count": null,
      "metadata": {
        "id": "OU86_WZCyMHN"
      },
      "outputs": [],
      "source": [
        "# Custom Dataset to apply Fourier Transform\n",
        "class FFTDataset(Dataset):\n",
        "    def __init__(self, root, train=True, transform=None, fourier = True, augment = False):\n",
        "        self.root = os.path.join(root, 'tiny-imagenet-200', 'train' if train else 'val')\n",
        "        self.transform = transform\n",
        "        self.augment = augment\n",
        "        self.fourier = fourier\n",
        "        self.images = []\n",
        "        self.labels = []\n",
        "\n",
        "        if train:\n",
        "            for class_dir in os.listdir(self.root):\n",
        "                class_path = os.path.join(self.root, class_dir, 'images')\n",
        "                for img_name in os.listdir(class_path):\n",
        "                    self.images.append(os.path.join(class_path, img_name))\n",
        "                    self.labels.append(class_dir)\n",
        "        else:\n",
        "            val_annotations = os.path.join(self.root, 'val_annotations.txt')\n",
        "            with open(val_annotations, 'r') as f:\n",
        "                for line in f.readlines():\n",
        "                    parts = line.strip().split()\n",
        "                    self.images.append(os.path.join(self.root, 'images', parts[0]))\n",
        "                    self.labels.append(parts[1])\n",
        "\n",
        "        self.class_to_idx = {cls: idx for idx, cls in enumerate(sorted(set(self.labels)))}\n",
        "        self.labels = [self.class_to_idx[label] for label in self.labels]\n",
        "\n",
        "    def __len__(self):\n",
        "        return len(self.images)\n",
        "\n",
        "    def __getitem__(self, idx):\n",
        "        img_path = self.images[idx]\n",
        "        label = self.labels[idx]\n",
        "        label = F.one_hot(torch.tensor(label), num_classes = 200).double()\n",
        "        image = Image.open(img_path).convert('RGB')\n",
        "        if self.transform: image = self.transform(image)\n",
        "        if self.augment: image = self.augment(image)\n",
        "        return image, label"
      ]
    },
    {
      "cell_type": "code",
      "execution_count": null,
      "metadata": {
        "id": "OV87m90ryQtB"
      },
      "outputs": [],
      "source": [
        "data_dir = './data'\n",
        "download_tiny_imagenet(data_dir)\n",
        "\n",
        "class AddGaussianNoise(object):\n",
        "    def __init__(self, mean=0., std=1.):\n",
        "        self.std = std\n",
        "        self.mean = mean\n",
        "\n",
        "    def __call__(self, tensor):\n",
        "        return tensor + torch.randn(tensor.size()) * self.std + self.mean\n",
        "\n",
        "    def __repr__(self):\n",
        "        return self.__class__.__name__ + '(mean={0}, std={1})'.format(self.mean, self.std)\n",
        "\n",
        "augment = transforms.Compose([\n",
        "    transforms.RandomHorizontalFlip(p=0.33),\n",
        "    transforms.RandomVerticalFlip(p=0.33),\n",
        "    transforms.RandomRotation(20),\n",
        "    transforms.ColorJitter(brightness=0.2, contrast=0.2, saturation=0.2),\n",
        "    transforms.RandomAffine(degrees=0, translate=(0.1, 0.1), scale=(1, 1.1)),\n",
        "    #transforms.RandomApply([AddGaussianNoise(mean=0, std=0.1)], p=0.25),\n",
        "])"
      ]
    },
    {
      "cell_type": "code",
      "execution_count": null,
      "metadata": {
        "id": "ve2xw8TaySJe"
      },
      "outputs": [],
      "source": [
        "class FFTResnet(nn.Module):\n",
        "  def __init__(self, num_classes):\n",
        "    super(FFTResnet, self).__init__()\n",
        "    self.resnet = models.resnet18(pretrained=False, num_classes = num_classes)\n",
        "    self.resnet.conv1 = nn.Conv2d(2, 64, kernel_size=7, stride=2, padding=3, bias=False)\n",
        "    self.transform = transforms.Compose([\n",
        "        transforms.Resize((64, 64)),\n",
        "        transforms.ToTensor(),\n",
        "        transforms.Grayscale(),\n",
        "        transforms.Normalize((0.5), (0.5)),\n",
        "    ])\n",
        "    self.normalization = (0.003469, 0.007588, 0.00162, 1.8142) # mag_avg, mag_std, ang_avg, ang_std\n",
        "\n",
        "  def __fourier_transform(self, img):\n",
        "      img_tensor = img\n",
        "      img_tensor = torch.fft.fft2(img_tensor, norm=\"forward\")\n",
        "      magnitude = torch.abs(img_tensor)\n",
        "      phase = torch.angle(img_tensor)\n",
        "      if self.normalization:\n",
        "        mag_avg, mag_std, ang_avg, ang_std = self.normalization\n",
        "        magnitude = (magnitude - mag_avg) / mag_std\n",
        "        phase = (phase - ang_avg) / ang_std\n",
        "      return torch.cat([magnitude, phase], dim=0)\n",
        "\n",
        "  def __batched_fourier(self, batch_tensor):\n",
        "    B = batch_tensor.shape[0]\n",
        "    results = []\n",
        "    for i in range(B):\n",
        "        result = self.__fourier_transform(batch_tensor[i])\n",
        "        results.append(result)\n",
        "    batch_result = torch.stack(results)\n",
        "    return batch_result\n",
        "\n",
        "  def compute_normalization(self, images): # images should be pillow images\n",
        "    self.normalization = None\n",
        "    all_magnitudes = []\n",
        "    all_phases = []\n",
        "    for image in images:\n",
        "      m, p =  self.__fourier_transform(self.normalize(image))\n",
        "      all_magnitudes.append(m)\n",
        "      all_phases.append(p)\n",
        "    all_magnitudes = np.concatenate(all_magnitudes, axis = 0)\n",
        "    all_phases = np.concatenate(all_phases, axis = 0)\n",
        "    self.normalization = (np.mean(all_magnitudes), np.std(all_magnitudes), np.mean(all_phases), np.std(all_phases))\n",
        "\n",
        "  def normalize(self, image):\n",
        "    return self.transform(image)\n",
        "\n",
        "  def forward(self, x):\n",
        "    x = self.__batched_fourier(x)\n",
        "    return self.resnet(x)\n"
      ]
    },
    {
      "cell_type": "code",
      "execution_count": null,
      "metadata": {
        "id": "ZogJLTClyUal"
      },
      "outputs": [],
      "source": [
        "resnet = FFTResnet(200)\n",
        "print(resnet.normalization)\n",
        "trainset = FFTDataset(root=data_dir, train=True, transform=None, fourier=False)\n",
        "resnet.compute_normalization( ( trainset[i][0] for i in range(len(trainset)) ) )\n",
        "print(resnet.normalization)"
      ]
    },
    {
      "cell_type": "code",
      "execution_count": null,
      "metadata": {
        "id": "DrqQPKntyVnm"
      },
      "outputs": [],
      "source": [
        "def compute_metrics(targets, outputs, thresholds, num_labels):\n",
        "  auc_scores = []\n",
        "  f1_scores = []\n",
        "  acc_scores = []\n",
        "  top_acc_scores = []\n",
        "  for i in range(num_labels):\n",
        "    y, y_scores = targets[:,i], outputs[:,i]\n",
        "    fpr, tpr, _ = metrics.roc_curve(y_true=y, y_score=y_scores)\n",
        "    auc = metrics.auc(x=fpr, y=tpr)\n",
        "    auc_scores.append(auc)\n",
        "    y_pred = np.where(y_scores > thresholds[i], 1, 0)\n",
        "    f1 = metrics.f1_score(y, y_pred)\n",
        "    f1_scores.append(f1)\n",
        "    acc = metrics.accuracy_score(y, y_pred)\n",
        "    acc_scores.append(acc)\n",
        "  indices = np.argmax(targets, axis=1)\n",
        "  top_acc = metrics.top_k_accuracy_score(indices, outputs, k=5)\n",
        "  return auc_scores, f1_scores, acc_scores, top_acc\n",
        "\n",
        "def compute_optimal_thresholds(targets, outputs, num_labels):\n",
        "  label_thresholds = []\n",
        "  for i in range(num_labels):\n",
        "    y, y_scores = targets[:,i], outputs[:,i]\n",
        "    fpr, tpr, thresholds = metrics.roc_curve(y_true=y, y_score=y_scores)\n",
        "    optimal_idx = np.argmax(tpr - fpr)\n",
        "    optimal_threshold = thresholds[optimal_idx]\n",
        "    label_thresholds.append(optimal_threshold)\n",
        "  return label_thresholds\n"
      ]
    },
    {
      "cell_type": "code",
      "execution_count": null,
      "metadata": {
        "id": "B66h2Ae5yXBc"
      },
      "outputs": [],
      "source": [
        "def plot_history(history, labels):\n",
        "  epoch = [ i+1 for i in range(len(history)) ]\n",
        "  # Loss chart\n",
        "  train_loss = [ row['train_loss'] for row in history ]\n",
        "  test_loss = [ row['test_loss'] for row in history ]\n",
        "  plt.figure()\n",
        "  plt.plot(epoch, train_loss, label=\"Train loss\")\n",
        "  plt.plot(epoch, test_loss, label=\"Test loss\")\n",
        "  plt.xlabel(\"epoch\")\n",
        "  plt.ylabel(\"average loss\")\n",
        "  plt.title(\"Loss(epoch)\")\n",
        "  plt.legend(loc='lower right')\n",
        "  plt.show()\n",
        "  # AUC chart\n",
        "  plt.figure()\n",
        "  #for i in range(len(labels)):\n",
        "  #  auc = [ row['auc'][i] for row in history ]\n",
        "  #  plt.plot(epoch, auc, label=labels[i])\n",
        "  avg_auc = [ sum(row['auc']) / len(labels) for row in history ]\n",
        "  plt.plot(epoch, avg_auc, label=\"Average\")\n",
        "  plt.xlabel(\"epoch\")\n",
        "  plt.ylabel(\"AUC\")\n",
        "  plt.title(\"AUC(epoch)\")\n",
        "  plt.legend(loc='lower right')\n",
        "  plt.show()\n",
        "  # F1 chart\n",
        "  plt.figure()\n",
        "  #for i in range(len(labels)):\n",
        "  #  auc = [ row['f1'][i] for row in history ]\n",
        "  #  plt.plot(epoch, auc, label=labels[i])\n",
        "  avg_f1 = [ sum(row['f1']) / len(labels) for row in history ]\n",
        "  plt.plot(epoch, avg_f1, label=\"Average\")\n",
        "  plt.xlabel(\"epoch\")\n",
        "  plt.ylabel(\"F1-score\")\n",
        "  plt.title(\"F1(epoch)\")\n",
        "  plt.legend(loc='lower right')\n",
        "  plt.show()\n",
        "  # ACC chart\n",
        "  plt.figure()\n",
        "  #for i in range(len(labels)):\n",
        "  #  auc = [ row['acc'][i] for row in history ]\n",
        "  #  plt.plot(epoch, auc, label=labels[i])\n",
        "  avg_acc = [ sum(row['acc']) / len(labels) for row in history ]\n",
        "  plt.plot(epoch, avg_acc, label=\"Average\")\n",
        "  plt.xlabel(\"epoch\")\n",
        "  plt.ylabel(\"Accuracy\")\n",
        "  plt.title(\"ACC(epoch)\")\n",
        "  plt.legend(loc='lower right')\n",
        "  plt.show()\n",
        "  avg_acc = [ row['top_acc'] for row in history ]\n",
        "  plt.plot(epoch, avg_acc, label=\"Average\")\n",
        "  plt.xlabel(\"epoch\")\n",
        "  plt.ylabel(\"Accuracy\")\n",
        "  plt.title(\"Top5ACC(epoch)\")\n",
        "  plt.legend(loc='lower right')\n",
        "  plt.show()"
      ]
    },
    {
      "cell_type": "code",
      "execution_count": null,
      "metadata": {
        "id": "Cjwkt-XwyYYn"
      },
      "outputs": [],
      "source": [
        "\n",
        "# Main function to train the model\n",
        "def train_model(model):\n",
        "\n",
        "    history = []\n",
        "    history_targets = []\n",
        "    history_logits = []\n",
        "\n",
        "    train_dataset = FFTDataset(root=data_dir, train=True, transform=model.normalize, augment = augment)\n",
        "    val_dataset = FFTDataset(root=data_dir, train=False, transform=model.normalize)\n",
        "\n",
        "    train_loader = DataLoader(train_dataset, batch_size=512, shuffle=True, num_workers=2)\n",
        "    val_loader = DataLoader(val_dataset, batch_size=512, shuffle=False, num_workers=2)\n",
        "\n",
        "    device = torch.device('cuda' if torch.cuda.is_available() else 'cpu')\n",
        "    model = model.to(device)\n",
        "\n",
        "    criterion = nn.CrossEntropyLoss()\n",
        "    optimizer = optim.SGD(model.parameters(), lr=0.003, momentum=0.9, weight_decay=0.0001)\n",
        "    scheduler = optim.lr_scheduler.StepLR(optimizer, step_size=1, gamma=0.95)\n",
        "\n",
        "    num_epochs = 50\n",
        "    for epoch in range(num_epochs):\n",
        "        model.train()\n",
        "        running_loss = 0.0\n",
        "        loop = tqdm.tqdm(train_loader)\n",
        "        for inputs, labels in loop:\n",
        "            inputs, labels = inputs.to(device), labels.to(device)\n",
        "            optimizer.zero_grad()\n",
        "            outputs = model(inputs)\n",
        "            loss = criterion(outputs, labels)\n",
        "            loss.backward()\n",
        "            optimizer.step()\n",
        "            running_loss += loss.item() * inputs.size(0)\n",
        "            loop.set_postfix(epoch = epoch, loss = loss.item())\n",
        "\n",
        "        scheduler.step()\n",
        "        epoch_loss = running_loss / len(train_loader.dataset)\n",
        "        print(f'Epoch {epoch+1}/{num_epochs}, Loss: {epoch_loss:.4f}')\n",
        "\n",
        "        model.eval()\n",
        "        val_loss = 0.0\n",
        "        all_targets = []\n",
        "        all_logits = []\n",
        "        with torch.no_grad():\n",
        "            for inputs, labels in val_loader:\n",
        "                inputs, labels = inputs.to(device), labels.to(device)\n",
        "                outputs = model(inputs)\n",
        "                loss = criterion(outputs, labels)\n",
        "                val_loss += loss.item() * inputs.size(0)\n",
        "                all_targets.append( labels.cpu().numpy() )\n",
        "                all_logits.append( outputs.cpu().numpy() )\n",
        "        all_targets = np.concatenate(all_targets, axis=0)\n",
        "        history_targets.append(all_targets)\n",
        "        all_logits = np.concatenate(all_logits, axis=0)\n",
        "        history_logits.append(all_logits)\n",
        "\n",
        "        thresholds = compute_optimal_thresholds(all_targets, all_logits, 200)\n",
        "        auc, f1, acc, top_acc = compute_metrics(all_targets, all_logits, thresholds, 200)\n",
        "\n",
        "        val_loss = val_loss / len(val_loader.dataset)\n",
        "\n",
        "        history.append( {'train_loss':epoch_loss, 'test_loss':val_loss, 'auc':auc, 'f1':f1, 'acc':acc, 'top_acc':top_acc} )\n",
        "\n",
        "        print(f'Validation Loss: {val_loss:.4f}, AUC: {sum(auc)/len(auc) :.4f}, F1: {sum(f1)/len(f1) :.4f}, ACC: {sum(acc)/len(acc) :.4f}, Top5ACC: {top_acc}')\n",
        "\n",
        "    print('Training complete.')\n",
        "    return history, history_targets, history_logits\n",
        "\n",
        "resnet = FFTResnet(200)\n",
        "history, history_targets, history_logits = train_model(resnet)\n",
        "plot_history(history, [i for i in range(200)])"
      ]
    },
    {
      "cell_type": "code",
      "execution_count": null,
      "metadata": {
        "id": "3tTWKbJlyZ4j"
      },
      "outputs": [],
      "source": [
        "import pickle\n",
        "import zlib\n",
        "\n",
        "def SaveBin(ob, filename):\n",
        "    with open(filename, \"wb\") as handle:\n",
        "        dump = pickle.dumps(ob)\n",
        "        dump = zlib.compress(dump)\n",
        "        handle.write(dump)\n",
        "\n",
        "def LoadBin(filename):\n",
        "    with open(filename, \"rb\") as handle:\n",
        "        dump = handle.read()\n",
        "        dump = zlib.decompress(dump)\n",
        "        return pickle.loads(dump)"
      ]
    },
    {
      "cell_type": "code",
      "execution_count": null,
      "metadata": {
        "id": "m-GUY9N1ybBq"
      },
      "outputs": [],
      "source": [
        "import torch\n",
        "from google.colab import files\n",
        "\n",
        "# Assuming 'model' is your PyTorch model\n",
        "torch.save(resnet.state_dict(), 'model.pth')\n",
        "SaveBin(history_targets, \"targets.pickle\")\n",
        "SaveBin(history_logits, \"logits.pickle\")\n",
        "\n",
        "# Download the file 'model.pth'\n",
        "files.download('model.pth')\n",
        "files.download('targets.pickle')\n",
        "files.download('logits.pickle')\n"
      ]
    }
  ],
  "metadata": {
    "accelerator": "GPU",
    "colab": {
      "collapsed_sections": [
        "gIJXmtvesxDk",
        "nbI8eE0As2Xb",
        "78qQ5v0GKpx3",
        "pppct10PxwgT",
        "kIffxaMKxpxa",
        "p4vZKFnf7otB",
        "FMEovm3wAbg0",
        "0rLobdJz7nNT",
        "ifsE-Ny68QTQ",
        "OombJ_j49FjZ",
        "0PrdJ9DGs4_b",
        "_dj9Rt7VCEWy",
        "JkmnyZ7lVlIP",
        "LIZH8cJEBiEp",
        "3wEmBKTRBur4",
        "oVVvX19YGRlf",
        "yg8mo4YeB7kC",
        "00E0TsNnLtEm",
        "G8StRs4wHGIi",
        "F84TgXGwNRR-",
        "e_SWaR8hveXs",
        "jUWKEWz8vkPc",
        "3K0Doib7ICxb"
      ],
      "gpuType": "T4",
      "provenance": []
    },
    "kernelspec": {
      "display_name": "Python 3",
      "name": "python3"
    },
    "language_info": {
      "name": "python"
    },
    "widgets": {
      "application/vnd.jupyter.widget-state+json": {
        "3db2d52a62c5454ba4f8fa64de19263f": {
          "model_module": "@jupyter-widgets/controls",
          "model_name": "HBoxModel",
          "model_module_version": "1.5.0",
          "state": {
            "_dom_classes": [],
            "_model_module": "@jupyter-widgets/controls",
            "_model_module_version": "1.5.0",
            "_model_name": "HBoxModel",
            "_view_count": null,
            "_view_module": "@jupyter-widgets/controls",
            "_view_module_version": "1.5.0",
            "_view_name": "HBoxView",
            "box_style": "",
            "children": [
              "IPY_MODEL_94ed626538374c5ca25b0b80e3afdb2c",
              "IPY_MODEL_354f37f21d754c81be3250ba775d89b5",
              "IPY_MODEL_a1d85160138c42139382e0551ed268c4"
            ],
            "layout": "IPY_MODEL_83445fa5e4614efb932da9b3be57e158"
          }
        },
        "94ed626538374c5ca25b0b80e3afdb2c": {
          "model_module": "@jupyter-widgets/controls",
          "model_name": "HTMLModel",
          "model_module_version": "1.5.0",
          "state": {
            "_dom_classes": [],
            "_model_module": "@jupyter-widgets/controls",
            "_model_module_version": "1.5.0",
            "_model_name": "HTMLModel",
            "_view_count": null,
            "_view_module": "@jupyter-widgets/controls",
            "_view_module_version": "1.5.0",
            "_view_name": "HTMLView",
            "description": "",
            "description_tooltip": null,
            "layout": "IPY_MODEL_28a0f5e3390d4b428d0ba1e74c60e505",
            "placeholder": "​",
            "style": "IPY_MODEL_3015eb8b3aae48369fe54545fa77fdbf",
            "value": "tokenizer_config.json: 100%"
          }
        },
        "354f37f21d754c81be3250ba775d89b5": {
          "model_module": "@jupyter-widgets/controls",
          "model_name": "FloatProgressModel",
          "model_module_version": "1.5.0",
          "state": {
            "_dom_classes": [],
            "_model_module": "@jupyter-widgets/controls",
            "_model_module_version": "1.5.0",
            "_model_name": "FloatProgressModel",
            "_view_count": null,
            "_view_module": "@jupyter-widgets/controls",
            "_view_module_version": "1.5.0",
            "_view_name": "ProgressView",
            "bar_style": "success",
            "description": "",
            "description_tooltip": null,
            "layout": "IPY_MODEL_4150af55e359443cb6c281a81080b82f",
            "max": 49,
            "min": 0,
            "orientation": "horizontal",
            "style": "IPY_MODEL_1f8eab48e2f747fd906a756f9ce11f72",
            "value": 49
          }
        },
        "a1d85160138c42139382e0551ed268c4": {
          "model_module": "@jupyter-widgets/controls",
          "model_name": "HTMLModel",
          "model_module_version": "1.5.0",
          "state": {
            "_dom_classes": [],
            "_model_module": "@jupyter-widgets/controls",
            "_model_module_version": "1.5.0",
            "_model_name": "HTMLModel",
            "_view_count": null,
            "_view_module": "@jupyter-widgets/controls",
            "_view_module_version": "1.5.0",
            "_view_name": "HTMLView",
            "description": "",
            "description_tooltip": null,
            "layout": "IPY_MODEL_05b82b54e4394bf09786ed29a997a22e",
            "placeholder": "​",
            "style": "IPY_MODEL_bb4f82e8bb0744d5be4a88c4d1821f70",
            "value": " 49.0/49.0 [00:00&lt;00:00, 2.76kB/s]"
          }
        },
        "83445fa5e4614efb932da9b3be57e158": {
          "model_module": "@jupyter-widgets/base",
          "model_name": "LayoutModel",
          "model_module_version": "1.2.0",
          "state": {
            "_model_module": "@jupyter-widgets/base",
            "_model_module_version": "1.2.0",
            "_model_name": "LayoutModel",
            "_view_count": null,
            "_view_module": "@jupyter-widgets/base",
            "_view_module_version": "1.2.0",
            "_view_name": "LayoutView",
            "align_content": null,
            "align_items": null,
            "align_self": null,
            "border": null,
            "bottom": null,
            "display": null,
            "flex": null,
            "flex_flow": null,
            "grid_area": null,
            "grid_auto_columns": null,
            "grid_auto_flow": null,
            "grid_auto_rows": null,
            "grid_column": null,
            "grid_gap": null,
            "grid_row": null,
            "grid_template_areas": null,
            "grid_template_columns": null,
            "grid_template_rows": null,
            "height": null,
            "justify_content": null,
            "justify_items": null,
            "left": null,
            "margin": null,
            "max_height": null,
            "max_width": null,
            "min_height": null,
            "min_width": null,
            "object_fit": null,
            "object_position": null,
            "order": null,
            "overflow": null,
            "overflow_x": null,
            "overflow_y": null,
            "padding": null,
            "right": null,
            "top": null,
            "visibility": null,
            "width": null
          }
        },
        "28a0f5e3390d4b428d0ba1e74c60e505": {
          "model_module": "@jupyter-widgets/base",
          "model_name": "LayoutModel",
          "model_module_version": "1.2.0",
          "state": {
            "_model_module": "@jupyter-widgets/base",
            "_model_module_version": "1.2.0",
            "_model_name": "LayoutModel",
            "_view_count": null,
            "_view_module": "@jupyter-widgets/base",
            "_view_module_version": "1.2.0",
            "_view_name": "LayoutView",
            "align_content": null,
            "align_items": null,
            "align_self": null,
            "border": null,
            "bottom": null,
            "display": null,
            "flex": null,
            "flex_flow": null,
            "grid_area": null,
            "grid_auto_columns": null,
            "grid_auto_flow": null,
            "grid_auto_rows": null,
            "grid_column": null,
            "grid_gap": null,
            "grid_row": null,
            "grid_template_areas": null,
            "grid_template_columns": null,
            "grid_template_rows": null,
            "height": null,
            "justify_content": null,
            "justify_items": null,
            "left": null,
            "margin": null,
            "max_height": null,
            "max_width": null,
            "min_height": null,
            "min_width": null,
            "object_fit": null,
            "object_position": null,
            "order": null,
            "overflow": null,
            "overflow_x": null,
            "overflow_y": null,
            "padding": null,
            "right": null,
            "top": null,
            "visibility": null,
            "width": null
          }
        },
        "3015eb8b3aae48369fe54545fa77fdbf": {
          "model_module": "@jupyter-widgets/controls",
          "model_name": "DescriptionStyleModel",
          "model_module_version": "1.5.0",
          "state": {
            "_model_module": "@jupyter-widgets/controls",
            "_model_module_version": "1.5.0",
            "_model_name": "DescriptionStyleModel",
            "_view_count": null,
            "_view_module": "@jupyter-widgets/base",
            "_view_module_version": "1.2.0",
            "_view_name": "StyleView",
            "description_width": ""
          }
        },
        "4150af55e359443cb6c281a81080b82f": {
          "model_module": "@jupyter-widgets/base",
          "model_name": "LayoutModel",
          "model_module_version": "1.2.0",
          "state": {
            "_model_module": "@jupyter-widgets/base",
            "_model_module_version": "1.2.0",
            "_model_name": "LayoutModel",
            "_view_count": null,
            "_view_module": "@jupyter-widgets/base",
            "_view_module_version": "1.2.0",
            "_view_name": "LayoutView",
            "align_content": null,
            "align_items": null,
            "align_self": null,
            "border": null,
            "bottom": null,
            "display": null,
            "flex": null,
            "flex_flow": null,
            "grid_area": null,
            "grid_auto_columns": null,
            "grid_auto_flow": null,
            "grid_auto_rows": null,
            "grid_column": null,
            "grid_gap": null,
            "grid_row": null,
            "grid_template_areas": null,
            "grid_template_columns": null,
            "grid_template_rows": null,
            "height": null,
            "justify_content": null,
            "justify_items": null,
            "left": null,
            "margin": null,
            "max_height": null,
            "max_width": null,
            "min_height": null,
            "min_width": null,
            "object_fit": null,
            "object_position": null,
            "order": null,
            "overflow": null,
            "overflow_x": null,
            "overflow_y": null,
            "padding": null,
            "right": null,
            "top": null,
            "visibility": null,
            "width": null
          }
        },
        "1f8eab48e2f747fd906a756f9ce11f72": {
          "model_module": "@jupyter-widgets/controls",
          "model_name": "ProgressStyleModel",
          "model_module_version": "1.5.0",
          "state": {
            "_model_module": "@jupyter-widgets/controls",
            "_model_module_version": "1.5.0",
            "_model_name": "ProgressStyleModel",
            "_view_count": null,
            "_view_module": "@jupyter-widgets/base",
            "_view_module_version": "1.2.0",
            "_view_name": "StyleView",
            "bar_color": null,
            "description_width": ""
          }
        },
        "05b82b54e4394bf09786ed29a997a22e": {
          "model_module": "@jupyter-widgets/base",
          "model_name": "LayoutModel",
          "model_module_version": "1.2.0",
          "state": {
            "_model_module": "@jupyter-widgets/base",
            "_model_module_version": "1.2.0",
            "_model_name": "LayoutModel",
            "_view_count": null,
            "_view_module": "@jupyter-widgets/base",
            "_view_module_version": "1.2.0",
            "_view_name": "LayoutView",
            "align_content": null,
            "align_items": null,
            "align_self": null,
            "border": null,
            "bottom": null,
            "display": null,
            "flex": null,
            "flex_flow": null,
            "grid_area": null,
            "grid_auto_columns": null,
            "grid_auto_flow": null,
            "grid_auto_rows": null,
            "grid_column": null,
            "grid_gap": null,
            "grid_row": null,
            "grid_template_areas": null,
            "grid_template_columns": null,
            "grid_template_rows": null,
            "height": null,
            "justify_content": null,
            "justify_items": null,
            "left": null,
            "margin": null,
            "max_height": null,
            "max_width": null,
            "min_height": null,
            "min_width": null,
            "object_fit": null,
            "object_position": null,
            "order": null,
            "overflow": null,
            "overflow_x": null,
            "overflow_y": null,
            "padding": null,
            "right": null,
            "top": null,
            "visibility": null,
            "width": null
          }
        },
        "bb4f82e8bb0744d5be4a88c4d1821f70": {
          "model_module": "@jupyter-widgets/controls",
          "model_name": "DescriptionStyleModel",
          "model_module_version": "1.5.0",
          "state": {
            "_model_module": "@jupyter-widgets/controls",
            "_model_module_version": "1.5.0",
            "_model_name": "DescriptionStyleModel",
            "_view_count": null,
            "_view_module": "@jupyter-widgets/base",
            "_view_module_version": "1.2.0",
            "_view_name": "StyleView",
            "description_width": ""
          }
        },
        "c740c8ef910b467d9ca4cb603f4c68b1": {
          "model_module": "@jupyter-widgets/controls",
          "model_name": "HBoxModel",
          "model_module_version": "1.5.0",
          "state": {
            "_dom_classes": [],
            "_model_module": "@jupyter-widgets/controls",
            "_model_module_version": "1.5.0",
            "_model_name": "HBoxModel",
            "_view_count": null,
            "_view_module": "@jupyter-widgets/controls",
            "_view_module_version": "1.5.0",
            "_view_name": "HBoxView",
            "box_style": "",
            "children": [
              "IPY_MODEL_0ce833b785e546ed80e18d8877e89970",
              "IPY_MODEL_2bbced64a1464ce991fa5afe86049c40",
              "IPY_MODEL_8e2419c8ef5f416493cc9ea1a90cbdc9"
            ],
            "layout": "IPY_MODEL_b419b0ccd3cc47609d00cf3b621e6129"
          }
        },
        "0ce833b785e546ed80e18d8877e89970": {
          "model_module": "@jupyter-widgets/controls",
          "model_name": "HTMLModel",
          "model_module_version": "1.5.0",
          "state": {
            "_dom_classes": [],
            "_model_module": "@jupyter-widgets/controls",
            "_model_module_version": "1.5.0",
            "_model_name": "HTMLModel",
            "_view_count": null,
            "_view_module": "@jupyter-widgets/controls",
            "_view_module_version": "1.5.0",
            "_view_name": "HTMLView",
            "description": "",
            "description_tooltip": null,
            "layout": "IPY_MODEL_631b2ac7aca54c0d8b28fc199851be26",
            "placeholder": "​",
            "style": "IPY_MODEL_9315ed29d2b6431b86a0429df59b3a43",
            "value": "config.json: 100%"
          }
        },
        "2bbced64a1464ce991fa5afe86049c40": {
          "model_module": "@jupyter-widgets/controls",
          "model_name": "FloatProgressModel",
          "model_module_version": "1.5.0",
          "state": {
            "_dom_classes": [],
            "_model_module": "@jupyter-widgets/controls",
            "_model_module_version": "1.5.0",
            "_model_name": "FloatProgressModel",
            "_view_count": null,
            "_view_module": "@jupyter-widgets/controls",
            "_view_module_version": "1.5.0",
            "_view_name": "ProgressView",
            "bar_style": "success",
            "description": "",
            "description_tooltip": null,
            "layout": "IPY_MODEL_9c4caa6c493844299028c939ccb14e25",
            "max": 570,
            "min": 0,
            "orientation": "horizontal",
            "style": "IPY_MODEL_ca1756d7a8b64ac6a7788f42dcf6cf06",
            "value": 570
          }
        },
        "8e2419c8ef5f416493cc9ea1a90cbdc9": {
          "model_module": "@jupyter-widgets/controls",
          "model_name": "HTMLModel",
          "model_module_version": "1.5.0",
          "state": {
            "_dom_classes": [],
            "_model_module": "@jupyter-widgets/controls",
            "_model_module_version": "1.5.0",
            "_model_name": "HTMLModel",
            "_view_count": null,
            "_view_module": "@jupyter-widgets/controls",
            "_view_module_version": "1.5.0",
            "_view_name": "HTMLView",
            "description": "",
            "description_tooltip": null,
            "layout": "IPY_MODEL_b16447a251e04f609550c2736ced4e6a",
            "placeholder": "​",
            "style": "IPY_MODEL_f8241e17d9b74fc59a9693bc333617b6",
            "value": " 570/570 [00:00&lt;00:00, 38.5kB/s]"
          }
        },
        "b419b0ccd3cc47609d00cf3b621e6129": {
          "model_module": "@jupyter-widgets/base",
          "model_name": "LayoutModel",
          "model_module_version": "1.2.0",
          "state": {
            "_model_module": "@jupyter-widgets/base",
            "_model_module_version": "1.2.0",
            "_model_name": "LayoutModel",
            "_view_count": null,
            "_view_module": "@jupyter-widgets/base",
            "_view_module_version": "1.2.0",
            "_view_name": "LayoutView",
            "align_content": null,
            "align_items": null,
            "align_self": null,
            "border": null,
            "bottom": null,
            "display": null,
            "flex": null,
            "flex_flow": null,
            "grid_area": null,
            "grid_auto_columns": null,
            "grid_auto_flow": null,
            "grid_auto_rows": null,
            "grid_column": null,
            "grid_gap": null,
            "grid_row": null,
            "grid_template_areas": null,
            "grid_template_columns": null,
            "grid_template_rows": null,
            "height": null,
            "justify_content": null,
            "justify_items": null,
            "left": null,
            "margin": null,
            "max_height": null,
            "max_width": null,
            "min_height": null,
            "min_width": null,
            "object_fit": null,
            "object_position": null,
            "order": null,
            "overflow": null,
            "overflow_x": null,
            "overflow_y": null,
            "padding": null,
            "right": null,
            "top": null,
            "visibility": null,
            "width": null
          }
        },
        "631b2ac7aca54c0d8b28fc199851be26": {
          "model_module": "@jupyter-widgets/base",
          "model_name": "LayoutModel",
          "model_module_version": "1.2.0",
          "state": {
            "_model_module": "@jupyter-widgets/base",
            "_model_module_version": "1.2.0",
            "_model_name": "LayoutModel",
            "_view_count": null,
            "_view_module": "@jupyter-widgets/base",
            "_view_module_version": "1.2.0",
            "_view_name": "LayoutView",
            "align_content": null,
            "align_items": null,
            "align_self": null,
            "border": null,
            "bottom": null,
            "display": null,
            "flex": null,
            "flex_flow": null,
            "grid_area": null,
            "grid_auto_columns": null,
            "grid_auto_flow": null,
            "grid_auto_rows": null,
            "grid_column": null,
            "grid_gap": null,
            "grid_row": null,
            "grid_template_areas": null,
            "grid_template_columns": null,
            "grid_template_rows": null,
            "height": null,
            "justify_content": null,
            "justify_items": null,
            "left": null,
            "margin": null,
            "max_height": null,
            "max_width": null,
            "min_height": null,
            "min_width": null,
            "object_fit": null,
            "object_position": null,
            "order": null,
            "overflow": null,
            "overflow_x": null,
            "overflow_y": null,
            "padding": null,
            "right": null,
            "top": null,
            "visibility": null,
            "width": null
          }
        },
        "9315ed29d2b6431b86a0429df59b3a43": {
          "model_module": "@jupyter-widgets/controls",
          "model_name": "DescriptionStyleModel",
          "model_module_version": "1.5.0",
          "state": {
            "_model_module": "@jupyter-widgets/controls",
            "_model_module_version": "1.5.0",
            "_model_name": "DescriptionStyleModel",
            "_view_count": null,
            "_view_module": "@jupyter-widgets/base",
            "_view_module_version": "1.2.0",
            "_view_name": "StyleView",
            "description_width": ""
          }
        },
        "9c4caa6c493844299028c939ccb14e25": {
          "model_module": "@jupyter-widgets/base",
          "model_name": "LayoutModel",
          "model_module_version": "1.2.0",
          "state": {
            "_model_module": "@jupyter-widgets/base",
            "_model_module_version": "1.2.0",
            "_model_name": "LayoutModel",
            "_view_count": null,
            "_view_module": "@jupyter-widgets/base",
            "_view_module_version": "1.2.0",
            "_view_name": "LayoutView",
            "align_content": null,
            "align_items": null,
            "align_self": null,
            "border": null,
            "bottom": null,
            "display": null,
            "flex": null,
            "flex_flow": null,
            "grid_area": null,
            "grid_auto_columns": null,
            "grid_auto_flow": null,
            "grid_auto_rows": null,
            "grid_column": null,
            "grid_gap": null,
            "grid_row": null,
            "grid_template_areas": null,
            "grid_template_columns": null,
            "grid_template_rows": null,
            "height": null,
            "justify_content": null,
            "justify_items": null,
            "left": null,
            "margin": null,
            "max_height": null,
            "max_width": null,
            "min_height": null,
            "min_width": null,
            "object_fit": null,
            "object_position": null,
            "order": null,
            "overflow": null,
            "overflow_x": null,
            "overflow_y": null,
            "padding": null,
            "right": null,
            "top": null,
            "visibility": null,
            "width": null
          }
        },
        "ca1756d7a8b64ac6a7788f42dcf6cf06": {
          "model_module": "@jupyter-widgets/controls",
          "model_name": "ProgressStyleModel",
          "model_module_version": "1.5.0",
          "state": {
            "_model_module": "@jupyter-widgets/controls",
            "_model_module_version": "1.5.0",
            "_model_name": "ProgressStyleModel",
            "_view_count": null,
            "_view_module": "@jupyter-widgets/base",
            "_view_module_version": "1.2.0",
            "_view_name": "StyleView",
            "bar_color": null,
            "description_width": ""
          }
        },
        "b16447a251e04f609550c2736ced4e6a": {
          "model_module": "@jupyter-widgets/base",
          "model_name": "LayoutModel",
          "model_module_version": "1.2.0",
          "state": {
            "_model_module": "@jupyter-widgets/base",
            "_model_module_version": "1.2.0",
            "_model_name": "LayoutModel",
            "_view_count": null,
            "_view_module": "@jupyter-widgets/base",
            "_view_module_version": "1.2.0",
            "_view_name": "LayoutView",
            "align_content": null,
            "align_items": null,
            "align_self": null,
            "border": null,
            "bottom": null,
            "display": null,
            "flex": null,
            "flex_flow": null,
            "grid_area": null,
            "grid_auto_columns": null,
            "grid_auto_flow": null,
            "grid_auto_rows": null,
            "grid_column": null,
            "grid_gap": null,
            "grid_row": null,
            "grid_template_areas": null,
            "grid_template_columns": null,
            "grid_template_rows": null,
            "height": null,
            "justify_content": null,
            "justify_items": null,
            "left": null,
            "margin": null,
            "max_height": null,
            "max_width": null,
            "min_height": null,
            "min_width": null,
            "object_fit": null,
            "object_position": null,
            "order": null,
            "overflow": null,
            "overflow_x": null,
            "overflow_y": null,
            "padding": null,
            "right": null,
            "top": null,
            "visibility": null,
            "width": null
          }
        },
        "f8241e17d9b74fc59a9693bc333617b6": {
          "model_module": "@jupyter-widgets/controls",
          "model_name": "DescriptionStyleModel",
          "model_module_version": "1.5.0",
          "state": {
            "_model_module": "@jupyter-widgets/controls",
            "_model_module_version": "1.5.0",
            "_model_name": "DescriptionStyleModel",
            "_view_count": null,
            "_view_module": "@jupyter-widgets/base",
            "_view_module_version": "1.2.0",
            "_view_name": "StyleView",
            "description_width": ""
          }
        },
        "d8249e6522854efeb23b292b072340d4": {
          "model_module": "@jupyter-widgets/controls",
          "model_name": "HBoxModel",
          "model_module_version": "1.5.0",
          "state": {
            "_dom_classes": [],
            "_model_module": "@jupyter-widgets/controls",
            "_model_module_version": "1.5.0",
            "_model_name": "HBoxModel",
            "_view_count": null,
            "_view_module": "@jupyter-widgets/controls",
            "_view_module_version": "1.5.0",
            "_view_name": "HBoxView",
            "box_style": "",
            "children": [
              "IPY_MODEL_ec075a3a5c7b4690897da136aebcf02d",
              "IPY_MODEL_0b19437078994c54ad8cc460a1487ea2",
              "IPY_MODEL_47d20688809b4edc91dec5eda2964cb2"
            ],
            "layout": "IPY_MODEL_82a56f0b4cba4b86a9aed068edf66654"
          }
        },
        "ec075a3a5c7b4690897da136aebcf02d": {
          "model_module": "@jupyter-widgets/controls",
          "model_name": "HTMLModel",
          "model_module_version": "1.5.0",
          "state": {
            "_dom_classes": [],
            "_model_module": "@jupyter-widgets/controls",
            "_model_module_version": "1.5.0",
            "_model_name": "HTMLModel",
            "_view_count": null,
            "_view_module": "@jupyter-widgets/controls",
            "_view_module_version": "1.5.0",
            "_view_name": "HTMLView",
            "description": "",
            "description_tooltip": null,
            "layout": "IPY_MODEL_a8035288d6974c1c9179344940e5de5e",
            "placeholder": "​",
            "style": "IPY_MODEL_e4a81b789b8d464f973e6b38e1532907",
            "value": "vocab.txt: 100%"
          }
        },
        "0b19437078994c54ad8cc460a1487ea2": {
          "model_module": "@jupyter-widgets/controls",
          "model_name": "FloatProgressModel",
          "model_module_version": "1.5.0",
          "state": {
            "_dom_classes": [],
            "_model_module": "@jupyter-widgets/controls",
            "_model_module_version": "1.5.0",
            "_model_name": "FloatProgressModel",
            "_view_count": null,
            "_view_module": "@jupyter-widgets/controls",
            "_view_module_version": "1.5.0",
            "_view_name": "ProgressView",
            "bar_style": "success",
            "description": "",
            "description_tooltip": null,
            "layout": "IPY_MODEL_e0975fd726964dd2b7576361afcaa602",
            "max": 213450,
            "min": 0,
            "orientation": "horizontal",
            "style": "IPY_MODEL_784cb8cf8b9649419059b48af079958d",
            "value": 213450
          }
        },
        "47d20688809b4edc91dec5eda2964cb2": {
          "model_module": "@jupyter-widgets/controls",
          "model_name": "HTMLModel",
          "model_module_version": "1.5.0",
          "state": {
            "_dom_classes": [],
            "_model_module": "@jupyter-widgets/controls",
            "_model_module_version": "1.5.0",
            "_model_name": "HTMLModel",
            "_view_count": null,
            "_view_module": "@jupyter-widgets/controls",
            "_view_module_version": "1.5.0",
            "_view_name": "HTMLView",
            "description": "",
            "description_tooltip": null,
            "layout": "IPY_MODEL_6747f063383c4f719d06e00960d71d56",
            "placeholder": "​",
            "style": "IPY_MODEL_fcdfbd4b826a4c78b079298a05947dff",
            "value": " 213k/213k [00:00&lt;00:00, 7.57MB/s]"
          }
        },
        "82a56f0b4cba4b86a9aed068edf66654": {
          "model_module": "@jupyter-widgets/base",
          "model_name": "LayoutModel",
          "model_module_version": "1.2.0",
          "state": {
            "_model_module": "@jupyter-widgets/base",
            "_model_module_version": "1.2.0",
            "_model_name": "LayoutModel",
            "_view_count": null,
            "_view_module": "@jupyter-widgets/base",
            "_view_module_version": "1.2.0",
            "_view_name": "LayoutView",
            "align_content": null,
            "align_items": null,
            "align_self": null,
            "border": null,
            "bottom": null,
            "display": null,
            "flex": null,
            "flex_flow": null,
            "grid_area": null,
            "grid_auto_columns": null,
            "grid_auto_flow": null,
            "grid_auto_rows": null,
            "grid_column": null,
            "grid_gap": null,
            "grid_row": null,
            "grid_template_areas": null,
            "grid_template_columns": null,
            "grid_template_rows": null,
            "height": null,
            "justify_content": null,
            "justify_items": null,
            "left": null,
            "margin": null,
            "max_height": null,
            "max_width": null,
            "min_height": null,
            "min_width": null,
            "object_fit": null,
            "object_position": null,
            "order": null,
            "overflow": null,
            "overflow_x": null,
            "overflow_y": null,
            "padding": null,
            "right": null,
            "top": null,
            "visibility": null,
            "width": null
          }
        },
        "a8035288d6974c1c9179344940e5de5e": {
          "model_module": "@jupyter-widgets/base",
          "model_name": "LayoutModel",
          "model_module_version": "1.2.0",
          "state": {
            "_model_module": "@jupyter-widgets/base",
            "_model_module_version": "1.2.0",
            "_model_name": "LayoutModel",
            "_view_count": null,
            "_view_module": "@jupyter-widgets/base",
            "_view_module_version": "1.2.0",
            "_view_name": "LayoutView",
            "align_content": null,
            "align_items": null,
            "align_self": null,
            "border": null,
            "bottom": null,
            "display": null,
            "flex": null,
            "flex_flow": null,
            "grid_area": null,
            "grid_auto_columns": null,
            "grid_auto_flow": null,
            "grid_auto_rows": null,
            "grid_column": null,
            "grid_gap": null,
            "grid_row": null,
            "grid_template_areas": null,
            "grid_template_columns": null,
            "grid_template_rows": null,
            "height": null,
            "justify_content": null,
            "justify_items": null,
            "left": null,
            "margin": null,
            "max_height": null,
            "max_width": null,
            "min_height": null,
            "min_width": null,
            "object_fit": null,
            "object_position": null,
            "order": null,
            "overflow": null,
            "overflow_x": null,
            "overflow_y": null,
            "padding": null,
            "right": null,
            "top": null,
            "visibility": null,
            "width": null
          }
        },
        "e4a81b789b8d464f973e6b38e1532907": {
          "model_module": "@jupyter-widgets/controls",
          "model_name": "DescriptionStyleModel",
          "model_module_version": "1.5.0",
          "state": {
            "_model_module": "@jupyter-widgets/controls",
            "_model_module_version": "1.5.0",
            "_model_name": "DescriptionStyleModel",
            "_view_count": null,
            "_view_module": "@jupyter-widgets/base",
            "_view_module_version": "1.2.0",
            "_view_name": "StyleView",
            "description_width": ""
          }
        },
        "e0975fd726964dd2b7576361afcaa602": {
          "model_module": "@jupyter-widgets/base",
          "model_name": "LayoutModel",
          "model_module_version": "1.2.0",
          "state": {
            "_model_module": "@jupyter-widgets/base",
            "_model_module_version": "1.2.0",
            "_model_name": "LayoutModel",
            "_view_count": null,
            "_view_module": "@jupyter-widgets/base",
            "_view_module_version": "1.2.0",
            "_view_name": "LayoutView",
            "align_content": null,
            "align_items": null,
            "align_self": null,
            "border": null,
            "bottom": null,
            "display": null,
            "flex": null,
            "flex_flow": null,
            "grid_area": null,
            "grid_auto_columns": null,
            "grid_auto_flow": null,
            "grid_auto_rows": null,
            "grid_column": null,
            "grid_gap": null,
            "grid_row": null,
            "grid_template_areas": null,
            "grid_template_columns": null,
            "grid_template_rows": null,
            "height": null,
            "justify_content": null,
            "justify_items": null,
            "left": null,
            "margin": null,
            "max_height": null,
            "max_width": null,
            "min_height": null,
            "min_width": null,
            "object_fit": null,
            "object_position": null,
            "order": null,
            "overflow": null,
            "overflow_x": null,
            "overflow_y": null,
            "padding": null,
            "right": null,
            "top": null,
            "visibility": null,
            "width": null
          }
        },
        "784cb8cf8b9649419059b48af079958d": {
          "model_module": "@jupyter-widgets/controls",
          "model_name": "ProgressStyleModel",
          "model_module_version": "1.5.0",
          "state": {
            "_model_module": "@jupyter-widgets/controls",
            "_model_module_version": "1.5.0",
            "_model_name": "ProgressStyleModel",
            "_view_count": null,
            "_view_module": "@jupyter-widgets/base",
            "_view_module_version": "1.2.0",
            "_view_name": "StyleView",
            "bar_color": null,
            "description_width": ""
          }
        },
        "6747f063383c4f719d06e00960d71d56": {
          "model_module": "@jupyter-widgets/base",
          "model_name": "LayoutModel",
          "model_module_version": "1.2.0",
          "state": {
            "_model_module": "@jupyter-widgets/base",
            "_model_module_version": "1.2.0",
            "_model_name": "LayoutModel",
            "_view_count": null,
            "_view_module": "@jupyter-widgets/base",
            "_view_module_version": "1.2.0",
            "_view_name": "LayoutView",
            "align_content": null,
            "align_items": null,
            "align_self": null,
            "border": null,
            "bottom": null,
            "display": null,
            "flex": null,
            "flex_flow": null,
            "grid_area": null,
            "grid_auto_columns": null,
            "grid_auto_flow": null,
            "grid_auto_rows": null,
            "grid_column": null,
            "grid_gap": null,
            "grid_row": null,
            "grid_template_areas": null,
            "grid_template_columns": null,
            "grid_template_rows": null,
            "height": null,
            "justify_content": null,
            "justify_items": null,
            "left": null,
            "margin": null,
            "max_height": null,
            "max_width": null,
            "min_height": null,
            "min_width": null,
            "object_fit": null,
            "object_position": null,
            "order": null,
            "overflow": null,
            "overflow_x": null,
            "overflow_y": null,
            "padding": null,
            "right": null,
            "top": null,
            "visibility": null,
            "width": null
          }
        },
        "fcdfbd4b826a4c78b079298a05947dff": {
          "model_module": "@jupyter-widgets/controls",
          "model_name": "DescriptionStyleModel",
          "model_module_version": "1.5.0",
          "state": {
            "_model_module": "@jupyter-widgets/controls",
            "_model_module_version": "1.5.0",
            "_model_name": "DescriptionStyleModel",
            "_view_count": null,
            "_view_module": "@jupyter-widgets/base",
            "_view_module_version": "1.2.0",
            "_view_name": "StyleView",
            "description_width": ""
          }
        },
        "5fbaa24d69954dcebcd899c10912cac5": {
          "model_module": "@jupyter-widgets/controls",
          "model_name": "HBoxModel",
          "model_module_version": "1.5.0",
          "state": {
            "_dom_classes": [],
            "_model_module": "@jupyter-widgets/controls",
            "_model_module_version": "1.5.0",
            "_model_name": "HBoxModel",
            "_view_count": null,
            "_view_module": "@jupyter-widgets/controls",
            "_view_module_version": "1.5.0",
            "_view_name": "HBoxView",
            "box_style": "",
            "children": [
              "IPY_MODEL_856f59aa062745768dce3624d33fc622",
              "IPY_MODEL_8b3829e2ff80488690b557dae6e4f96b",
              "IPY_MODEL_499f458ee05d4b95900b80de20f32b33"
            ],
            "layout": "IPY_MODEL_0e9247f29c0a4350a8766b1064a82c09"
          }
        },
        "856f59aa062745768dce3624d33fc622": {
          "model_module": "@jupyter-widgets/controls",
          "model_name": "HTMLModel",
          "model_module_version": "1.5.0",
          "state": {
            "_dom_classes": [],
            "_model_module": "@jupyter-widgets/controls",
            "_model_module_version": "1.5.0",
            "_model_name": "HTMLModel",
            "_view_count": null,
            "_view_module": "@jupyter-widgets/controls",
            "_view_module_version": "1.5.0",
            "_view_name": "HTMLView",
            "description": "",
            "description_tooltip": null,
            "layout": "IPY_MODEL_9ebf9a458cfd4066866ecf0ee635497a",
            "placeholder": "​",
            "style": "IPY_MODEL_27d4b6780d6a47b4b51dc161cd5b5a2e",
            "value": "tokenizer.json: 100%"
          }
        },
        "8b3829e2ff80488690b557dae6e4f96b": {
          "model_module": "@jupyter-widgets/controls",
          "model_name": "FloatProgressModel",
          "model_module_version": "1.5.0",
          "state": {
            "_dom_classes": [],
            "_model_module": "@jupyter-widgets/controls",
            "_model_module_version": "1.5.0",
            "_model_name": "FloatProgressModel",
            "_view_count": null,
            "_view_module": "@jupyter-widgets/controls",
            "_view_module_version": "1.5.0",
            "_view_name": "ProgressView",
            "bar_style": "success",
            "description": "",
            "description_tooltip": null,
            "layout": "IPY_MODEL_a3533b8f704b47f5a0e74b1835d55a31",
            "max": 435797,
            "min": 0,
            "orientation": "horizontal",
            "style": "IPY_MODEL_d901cb7fcf5f43939c5baf171376025c",
            "value": 435797
          }
        },
        "499f458ee05d4b95900b80de20f32b33": {
          "model_module": "@jupyter-widgets/controls",
          "model_name": "HTMLModel",
          "model_module_version": "1.5.0",
          "state": {
            "_dom_classes": [],
            "_model_module": "@jupyter-widgets/controls",
            "_model_module_version": "1.5.0",
            "_model_name": "HTMLModel",
            "_view_count": null,
            "_view_module": "@jupyter-widgets/controls",
            "_view_module_version": "1.5.0",
            "_view_name": "HTMLView",
            "description": "",
            "description_tooltip": null,
            "layout": "IPY_MODEL_086f7d36383246fcb45a2e21949e1f66",
            "placeholder": "​",
            "style": "IPY_MODEL_e5bdb9d1088745259cf52c3b25a91f5e",
            "value": " 436k/436k [00:00&lt;00:00, 10.7MB/s]"
          }
        },
        "0e9247f29c0a4350a8766b1064a82c09": {
          "model_module": "@jupyter-widgets/base",
          "model_name": "LayoutModel",
          "model_module_version": "1.2.0",
          "state": {
            "_model_module": "@jupyter-widgets/base",
            "_model_module_version": "1.2.0",
            "_model_name": "LayoutModel",
            "_view_count": null,
            "_view_module": "@jupyter-widgets/base",
            "_view_module_version": "1.2.0",
            "_view_name": "LayoutView",
            "align_content": null,
            "align_items": null,
            "align_self": null,
            "border": null,
            "bottom": null,
            "display": null,
            "flex": null,
            "flex_flow": null,
            "grid_area": null,
            "grid_auto_columns": null,
            "grid_auto_flow": null,
            "grid_auto_rows": null,
            "grid_column": null,
            "grid_gap": null,
            "grid_row": null,
            "grid_template_areas": null,
            "grid_template_columns": null,
            "grid_template_rows": null,
            "height": null,
            "justify_content": null,
            "justify_items": null,
            "left": null,
            "margin": null,
            "max_height": null,
            "max_width": null,
            "min_height": null,
            "min_width": null,
            "object_fit": null,
            "object_position": null,
            "order": null,
            "overflow": null,
            "overflow_x": null,
            "overflow_y": null,
            "padding": null,
            "right": null,
            "top": null,
            "visibility": null,
            "width": null
          }
        },
        "9ebf9a458cfd4066866ecf0ee635497a": {
          "model_module": "@jupyter-widgets/base",
          "model_name": "LayoutModel",
          "model_module_version": "1.2.0",
          "state": {
            "_model_module": "@jupyter-widgets/base",
            "_model_module_version": "1.2.0",
            "_model_name": "LayoutModel",
            "_view_count": null,
            "_view_module": "@jupyter-widgets/base",
            "_view_module_version": "1.2.0",
            "_view_name": "LayoutView",
            "align_content": null,
            "align_items": null,
            "align_self": null,
            "border": null,
            "bottom": null,
            "display": null,
            "flex": null,
            "flex_flow": null,
            "grid_area": null,
            "grid_auto_columns": null,
            "grid_auto_flow": null,
            "grid_auto_rows": null,
            "grid_column": null,
            "grid_gap": null,
            "grid_row": null,
            "grid_template_areas": null,
            "grid_template_columns": null,
            "grid_template_rows": null,
            "height": null,
            "justify_content": null,
            "justify_items": null,
            "left": null,
            "margin": null,
            "max_height": null,
            "max_width": null,
            "min_height": null,
            "min_width": null,
            "object_fit": null,
            "object_position": null,
            "order": null,
            "overflow": null,
            "overflow_x": null,
            "overflow_y": null,
            "padding": null,
            "right": null,
            "top": null,
            "visibility": null,
            "width": null
          }
        },
        "27d4b6780d6a47b4b51dc161cd5b5a2e": {
          "model_module": "@jupyter-widgets/controls",
          "model_name": "DescriptionStyleModel",
          "model_module_version": "1.5.0",
          "state": {
            "_model_module": "@jupyter-widgets/controls",
            "_model_module_version": "1.5.0",
            "_model_name": "DescriptionStyleModel",
            "_view_count": null,
            "_view_module": "@jupyter-widgets/base",
            "_view_module_version": "1.2.0",
            "_view_name": "StyleView",
            "description_width": ""
          }
        },
        "a3533b8f704b47f5a0e74b1835d55a31": {
          "model_module": "@jupyter-widgets/base",
          "model_name": "LayoutModel",
          "model_module_version": "1.2.0",
          "state": {
            "_model_module": "@jupyter-widgets/base",
            "_model_module_version": "1.2.0",
            "_model_name": "LayoutModel",
            "_view_count": null,
            "_view_module": "@jupyter-widgets/base",
            "_view_module_version": "1.2.0",
            "_view_name": "LayoutView",
            "align_content": null,
            "align_items": null,
            "align_self": null,
            "border": null,
            "bottom": null,
            "display": null,
            "flex": null,
            "flex_flow": null,
            "grid_area": null,
            "grid_auto_columns": null,
            "grid_auto_flow": null,
            "grid_auto_rows": null,
            "grid_column": null,
            "grid_gap": null,
            "grid_row": null,
            "grid_template_areas": null,
            "grid_template_columns": null,
            "grid_template_rows": null,
            "height": null,
            "justify_content": null,
            "justify_items": null,
            "left": null,
            "margin": null,
            "max_height": null,
            "max_width": null,
            "min_height": null,
            "min_width": null,
            "object_fit": null,
            "object_position": null,
            "order": null,
            "overflow": null,
            "overflow_x": null,
            "overflow_y": null,
            "padding": null,
            "right": null,
            "top": null,
            "visibility": null,
            "width": null
          }
        },
        "d901cb7fcf5f43939c5baf171376025c": {
          "model_module": "@jupyter-widgets/controls",
          "model_name": "ProgressStyleModel",
          "model_module_version": "1.5.0",
          "state": {
            "_model_module": "@jupyter-widgets/controls",
            "_model_module_version": "1.5.0",
            "_model_name": "ProgressStyleModel",
            "_view_count": null,
            "_view_module": "@jupyter-widgets/base",
            "_view_module_version": "1.2.0",
            "_view_name": "StyleView",
            "bar_color": null,
            "description_width": ""
          }
        },
        "086f7d36383246fcb45a2e21949e1f66": {
          "model_module": "@jupyter-widgets/base",
          "model_name": "LayoutModel",
          "model_module_version": "1.2.0",
          "state": {
            "_model_module": "@jupyter-widgets/base",
            "_model_module_version": "1.2.0",
            "_model_name": "LayoutModel",
            "_view_count": null,
            "_view_module": "@jupyter-widgets/base",
            "_view_module_version": "1.2.0",
            "_view_name": "LayoutView",
            "align_content": null,
            "align_items": null,
            "align_self": null,
            "border": null,
            "bottom": null,
            "display": null,
            "flex": null,
            "flex_flow": null,
            "grid_area": null,
            "grid_auto_columns": null,
            "grid_auto_flow": null,
            "grid_auto_rows": null,
            "grid_column": null,
            "grid_gap": null,
            "grid_row": null,
            "grid_template_areas": null,
            "grid_template_columns": null,
            "grid_template_rows": null,
            "height": null,
            "justify_content": null,
            "justify_items": null,
            "left": null,
            "margin": null,
            "max_height": null,
            "max_width": null,
            "min_height": null,
            "min_width": null,
            "object_fit": null,
            "object_position": null,
            "order": null,
            "overflow": null,
            "overflow_x": null,
            "overflow_y": null,
            "padding": null,
            "right": null,
            "top": null,
            "visibility": null,
            "width": null
          }
        },
        "e5bdb9d1088745259cf52c3b25a91f5e": {
          "model_module": "@jupyter-widgets/controls",
          "model_name": "DescriptionStyleModel",
          "model_module_version": "1.5.0",
          "state": {
            "_model_module": "@jupyter-widgets/controls",
            "_model_module_version": "1.5.0",
            "_model_name": "DescriptionStyleModel",
            "_view_count": null,
            "_view_module": "@jupyter-widgets/base",
            "_view_module_version": "1.2.0",
            "_view_name": "StyleView",
            "description_width": ""
          }
        }
      }
    }
  },
  "nbformat": 4,
  "nbformat_minor": 0
}